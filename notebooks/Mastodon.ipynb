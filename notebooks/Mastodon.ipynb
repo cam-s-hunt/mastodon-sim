{
 "cells": [
  {
   "cell_type": "markdown",
   "metadata": {},
   "source": [
    "# Mastodon API operations\n",
    "\n",
    "API operations defined in `mastodon_sim.mastodon_ops`."
   ]
  },
  {
   "cell_type": "code",
   "execution_count": null,
   "metadata": {},
   "outputs": [],
   "source": [
    "%load_ext autoreload\n",
    "%autoreload 2"
   ]
  },
  {
   "cell_type": "markdown",
   "metadata": {},
   "source": [
    "## Check environment\n",
    "\n",
    "Get environment variables with `.env` file (in project root directory)"
   ]
  },
  {
   "cell_type": "code",
   "execution_count": null,
   "metadata": {},
   "outputs": [],
   "source": [
    "from mastodon_sim.mastodon_ops import check_env\n",
    "\n",
    "check_env()"
   ]
  },
  {
   "cell_type": "markdown",
   "metadata": {},
   "source": [
    "## Get Mastodon client\n",
    "\n",
    "Create Mastodon client object"
   ]
  },
  {
   "cell_type": "code",
   "execution_count": null,
   "metadata": {},
   "outputs": [],
   "source": [
    "from mastodon_sim.mastodon_ops import get_client\n",
    "\n",
    "mastodon = get_client()"
   ]
  },
  {
   "cell_type": "markdown",
   "metadata": {},
   "source": [
    "## Login user\n",
    "\n",
    "Get access token for `user0001`."
   ]
  },
  {
   "cell_type": "code",
   "execution_count": null,
   "metadata": {},
   "outputs": [],
   "source": [
    "from mastodon_sim.mastodon_ops import login\n",
    "\n",
    "access_token = login(\"user0001\")\n",
    "print(f\"access_token: {access_token}\")"
   ]
  },
  {
   "cell_type": "markdown",
   "metadata": {},
   "source": [
    "## Update name and bio\n",
    "\n",
    "Update `user0001`'s display name and bio."
   ]
  },
  {
   "cell_type": "code",
   "execution_count": null,
   "metadata": {},
   "outputs": [],
   "source": [
    "from mastodon_sim.mastodon_ops import update_bio\n",
    "\n",
    "display_name = \"Bob\"\n",
    "bio = \"Hello, I am user0001!\"\n",
    "\n",
    "update_bio(login_user=\"user0001\", display_name=display_name, bio=bio)"
   ]
  },
  {
   "cell_type": "markdown",
   "metadata": {},
   "source": [
    "## Read name and bio\n",
    "\n",
    "Have one user read another user's bio. Defaults to \"Not provided\" if the user has not set either."
   ]
  },
  {
   "cell_type": "code",
   "execution_count": null,
   "metadata": {},
   "outputs": [],
   "source": [
    "from mastodon_sim.mastodon_ops import read_bio\n",
    "\n",
    "display_name, bio = read_bio(login_user=\"user0002\", target_user=\"user0001\")\n",
    "\n",
    "display_name, bio = read_bio(login_user=\"user0001\", target_user=\"user0002\")"
   ]
  },
  {
   "cell_type": "markdown",
   "metadata": {},
   "source": [
    "## Follow user\n",
    "\n",
    "Make `user0001` follow `user0002` and vice versa."
   ]
  },
  {
   "cell_type": "code",
   "execution_count": null,
   "metadata": {},
   "outputs": [],
   "source": [
    "from mastodon_sim.mastodon_ops import follow\n",
    "\n",
    "follow(login_user=\"user0001\", follow_user=\"user0002\")\n",
    "\n",
    "follow(login_user=\"user0002\", follow_user=\"user0001\")"
   ]
  },
  {
   "cell_type": "markdown",
   "metadata": {},
   "source": [
    "## Unfollow user\n",
    "\n",
    "Make `user0002` unfollow `user0001`."
   ]
  },
  {
   "cell_type": "code",
   "execution_count": null,
   "metadata": {},
   "outputs": [],
   "source": [
    "from mastodon_sim.mastodon_ops import unfollow\n",
    "\n",
    "unfollow(login_user=\"user0002\", unfollow_user=\"user0001\")"
   ]
  },
  {
   "cell_type": "markdown",
   "metadata": {},
   "source": [
    "## Toot (post a status)\n",
    "\n",
    "Make `user0001` and `user0002` toot a `status`.\n",
    "\n",
    "Note that \"toot\" is analogous to \"tweet\"."
   ]
  },
  {
   "cell_type": "code",
   "execution_count": null,
   "metadata": {},
   "outputs": [],
   "source": [
    "from mastodon_sim.mastodon_ops import toot\n",
    "\n",
    "toot(login_user=\"user0001\", status=\"Hello World, from user0001!\")\n",
    "\n",
    "toot(login_user=\"user0002\", status=\"Hello World, from user0002!\")"
   ]
  },
  {
   "cell_type": "markdown",
   "metadata": {},
   "source": [
    "## Post a status with additional settings\n",
    "\n",
    "Note that `toot` is a synonym for `post_status`, but only takes the status text as input."
   ]
  },
  {
   "cell_type": "code",
   "execution_count": null,
   "metadata": {},
   "outputs": [],
   "source": [
    "from mastodon_sim.mastodon_ops import post_status\n",
    "\n",
    "post_status(\n",
    "    login_user=\"user0002\",\n",
    "    status=\"Hello World, from user0002! This is an unlisted toot with a content warning.\",\n",
    "    visibility=\"unlisted\",\n",
    "    sensitive=True,\n",
    "    spoiler_text=\"Content warning\",\n",
    ")"
   ]
  },
  {
   "cell_type": "markdown",
   "metadata": {},
   "source": [
    "## Send a DM\n",
    "\n",
    "Send a DM from `user0001` to `user0002`."
   ]
  },
  {
   "cell_type": "code",
   "execution_count": null,
   "metadata": {},
   "outputs": [],
   "source": [
    "post_status(\n",
    "    login_user=\"user0001\",\n",
    "    status=\"@user0002 Hello, this is a direct message!\",\n",
    "    visibility=\"direct\",\n",
    ")"
   ]
  },
  {
   "cell_type": "markdown",
   "metadata": {},
   "source": [
    "###"
   ]
  },
  {
   "cell_type": "markdown",
   "metadata": {},
   "source": [
    "## Post with media attachments"
   ]
  },
  {
   "cell_type": "code",
   "execution_count": null,
   "metadata": {},
   "outputs": [],
   "source": [
    "image_file = \"../infrastructure/mastodon-on-aws/architecture.png\"\n",
    "\n",
    "post_status(\n",
    "    login_user=\"user0001\",\n",
    "    status=\"Check out this image!\",\n",
    "    media_files=[image_file],\n",
    ")"
   ]
  },
  {
   "cell_type": "markdown",
   "metadata": {},
   "source": [
    "## Create a poll"
   ]
  },
  {
   "cell_type": "code",
   "execution_count": null,
   "metadata": {},
   "outputs": [],
   "source": [
    "post_status(\n",
    "    login_user=\"user0001\",\n",
    "    status=\"What's your favorite color?\",\n",
    "    poll_options=[\"Red\", \"Blue\", \"Green\"],\n",
    "    poll_expires_in=86400,\n",
    ")"
   ]
  },
  {
   "cell_type": "markdown",
   "metadata": {},
   "source": [
    "## Get the public timeline\n",
    "\n",
    "Get the entire pubic timeline in reverse chronological order, up to `limit`."
   ]
  },
  {
   "cell_type": "code",
   "execution_count": null,
   "metadata": {},
   "outputs": [],
   "source": [
    "from mastodon_sim.mastodon_ops import get_public_timeline, print_timeline\n",
    "\n",
    "timeline = get_public_timeline(limit=None)\n",
    "print_timeline(timeline)"
   ]
  },
  {
   "cell_type": "markdown",
   "metadata": {},
   "source": [
    "## Get own timeline\n",
    "\n",
    "Retrieve `user0001`'s timeline. Fetches the logged-in user's home timeline (i.e., followed users and self). Offers filtering options:\n",
    "- `all`: Default, shows all posts\n",
    "- `self`: Shows only the user's own posts\n",
    "- `others`: Shows only posts from followed users"
   ]
  },
  {
   "cell_type": "code",
   "execution_count": null,
   "metadata": {},
   "outputs": [],
   "source": [
    "from mastodon_sim.mastodon_ops import get_own_timeline\n",
    "\n",
    "# Notice the retrieved count is different for each of these\n",
    "timeline = get_own_timeline(\"user0001\", filter_type=\"all\")\n",
    "timeline = get_own_timeline(\"user0001\", filter_type=\"self\")\n",
    "timeline = get_own_timeline(\"user0001\", filter_type=\"others\")\n",
    "\n",
    "# Print the timeline (in this case, all others following, but not self)\n",
    "print_timeline(timeline)"
   ]
  },
  {
   "cell_type": "markdown",
   "metadata": {},
   "source": [
    "## Read a user's timeline (non-global)\n",
    "\n",
    "From the perspective of `user0002`, read `user0001`'s timeline.\n",
    "\n",
    "**Accessible Information**:\n",
    "  - `user0002` can read `user0001`'s public and unlisted posts, as well as follower-only posts if `user0002` is a follower.\n",
    "  - Details available include post ID, creation date, username, display name, content, URL, favourites count, and reblogs count.\n",
    "\n",
    "**Restricted Information**:\n",
    "  - `user0002` cannot access private posts or direct messages.\n",
    "\n",
    "**Impact of Being Blocked**:\n",
    "  - If `user0001` has blocked `user0002`, `user0002` cannot retrieve any posts from `user0001`'s timeline.\n",
    "  - The function will return an empty list due to the block enforced by the Mastodon API."
   ]
  },
  {
   "cell_type": "code",
   "execution_count": null,
   "metadata": {},
   "outputs": [],
   "source": [
    "from mastodon_sim.mastodon_ops import get_user_timeline\n",
    "\n",
    "timeline = get_user_timeline(login_user=\"user0002\", target_user=\"user0001\", limit=None)\n",
    "print_timeline(timeline)"
   ]
  },
  {
   "cell_type": "markdown",
   "metadata": {},
   "source": [
    "## Block / unblock a user\n",
    "\n",
    "Make `user0001` block or unblock `user0002`."
   ]
  },
  {
   "cell_type": "code",
   "execution_count": null,
   "metadata": {},
   "outputs": [],
   "source": [
    "from mastodon_sim.mastodon_ops import block_user, unblock_user\n",
    "\n",
    "# user001 blocks user002\n",
    "block_user(login_user=\"user0001\", target_user=\"user0002\")\n",
    "\n",
    "# user002 tries to read user001's timeline, but retrieves zero toots\n",
    "timeline = get_user_timeline(login_user=\"user0002\", target_user=\"user0001\")\n",
    "\n",
    "# user001 unblocks user002\n",
    "unblock_user(login_user=\"user0001\", target_user=\"user0002\")\n",
    "\n",
    "# user002 tries to read user001's timeline again, and retrieves the toots\n",
    "timeline = get_user_timeline(login_user=\"user0002\", target_user=\"user0001\")"
   ]
  },
  {
   "cell_type": "markdown",
   "metadata": {},
   "source": [
    "## Mute account (user)\n",
    "\n",
    "Make `user0001` mute and unmute `user0002`."
   ]
  },
  {
   "cell_type": "code",
   "execution_count": null,
   "metadata": {},
   "outputs": [],
   "source": [
    "from mastodon_sim.mastodon_ops import mute_account, unmute_account\n",
    "\n",
    "mute_account(\n",
    "    login_user=\"user0001\",\n",
    "    mute_user=\"user0002\",\n",
    "    notifications=False,\n",
    "    duration=None,\n",
    ")\n",
    "\n",
    "unmute_account(\n",
    "    login_user=\"user0001\",\n",
    "    unmute_user=\"user0002\",\n",
    ")"
   ]
  },
  {
   "cell_type": "markdown",
   "metadata": {},
   "source": [
    "## Like (favorite) a toot\n",
    "\n",
    "Make `user0002` like `user0001`'s toot with ID `toot_id`."
   ]
  },
  {
   "cell_type": "code",
   "execution_count": null,
   "metadata": {},
   "outputs": [],
   "source": [
    "from mastodon_sim.mastodon_ops import like_toot\n",
    "\n",
    "timeline = get_user_timeline(login_user=\"user0002\", target_user=\"user0001\")\n",
    "\n",
    "# Most recent toot is index 0 (reverse chronological order)\n",
    "most_recent_toot_id = timeline[0][\"id\"]\n",
    "\n",
    "like_toot(login_user=\"user0002\", target_user=\"user0001\", toot_id=most_recent_toot_id)"
   ]
  },
  {
   "cell_type": "markdown",
   "metadata": {},
   "source": [
    "## Boost (reblog) a toot\n",
    "\n",
    "Make `user0002` boost `user0001`'s toot with ID `toot_id`."
   ]
  },
  {
   "cell_type": "code",
   "execution_count": null,
   "metadata": {},
   "outputs": [],
   "source": [
    "from mastodon_sim.mastodon_ops import boost_toot\n",
    "\n",
    "timeline = get_user_timeline(login_user=\"user0002\", target_user=\"user0001\")\n",
    "most_recent_toot_id = timeline[0][\"id\"]\n",
    "\n",
    "boost_toot(login_user=\"user0002\", target_user=\"user0001\", toot_id=most_recent_toot_id)"
   ]
  },
  {
   "cell_type": "markdown",
   "metadata": {},
   "source": [
    "## Post a reply\n",
    "\n",
    "Make `user0002` reply to `user0001`'s post (a poll)."
   ]
  },
  {
   "cell_type": "code",
   "execution_count": null,
   "metadata": {},
   "outputs": [],
   "source": [
    "timeline = get_user_timeline(login_user=\"user0002\", target_user=\"user0001\")\n",
    "print(f\"Last toot: {timeline[0]['content']}\")\n",
    "most_recent_toot_id = timeline[0][\"id\"]\n",
    "\n",
    "post_status(\n",
    "    login_user=\"user0002\",\n",
    "    status=\"This is a great poll!\",\n",
    "    in_reply_to_id=most_recent_toot_id,\n",
    ")"
   ]
  },
  {
   "cell_type": "markdown",
   "metadata": {},
   "source": [
    "## Read notifications\n",
    "\n",
    "Read all notifications for `user0001` and clear them."
   ]
  },
  {
   "cell_type": "code",
   "execution_count": null,
   "metadata": {},
   "outputs": [],
   "source": [
    "from mastodon_sim.mastodon_ops import print_notifications, read_notifications\n",
    "\n",
    "notifications = read_notifications(login_user=\"user0001\", clear=True, limit=None)\n",
    "print_notifications(notifications)"
   ]
  },
  {
   "cell_type": "markdown",
   "metadata": {},
   "source": [
    "## Display user follow graph"
   ]
  },
  {
   "cell_type": "code",
   "execution_count": null,
   "metadata": {},
   "outputs": [],
   "source": [
    "from mastodon_sim.mastodon_ops import follow\n",
    "from mastodon_sim.mastodon_utils import create_user_graph\n",
    "\n",
    "# Set up some follows\n",
    "follow(login_user=\"user0001\", follow_user=\"user0002\")\n",
    "follow(login_user=\"user0002\", follow_user=\"user0001\")\n",
    "follow(login_user=\"user0003\", follow_user=\"user0001\")\n",
    "follow(login_user=\"user0004\", follow_user=\"user0001\")\n",
    "follow(login_user=\"user0005\", follow_user=\"user0001\")\n",
    "\n",
    "create_user_graph()  # Note: interactive graph — not visible in GitHub"
   ]
  },
  {
   "cell_type": "markdown",
   "metadata": {},
   "source": [
    "## Delete post(s)\n",
    "\n",
    "Make `user0002` delete their last post (the reply to `user0001`'s poll)."
   ]
  },
  {
   "cell_type": "code",
   "execution_count": null,
   "metadata": {},
   "outputs": [],
   "source": [
    "# from mastodon_sim.mastodon_ops import delete_posts\n",
    "\n",
    "# # Check user0002's number of toots\n",
    "# timeline = get_own_timeline(\"user0002\")\n",
    "\n",
    "# delete_posts(\n",
    "#     login_user=\"user0002\",\n",
    "#     recent_count=1,\n",
    "# )\n",
    "\n",
    "# # Check user0002's number of toots again, should be 1 less\n",
    "# timeline = get_own_timeline(\"user0002\")"
   ]
  },
  {
   "cell_type": "markdown",
   "metadata": {},
   "source": [
    "Delete a post by post ID."
   ]
  },
  {
   "cell_type": "code",
   "execution_count": null,
   "metadata": {},
   "outputs": [],
   "source": [
    "# # Get user0002's first toot (and print the number of toots)\n",
    "# timeline = get_own_timeline(\"user0002\")\n",
    "# first_toot_id = timeline[0][\"id\"]\n",
    "\n",
    "# delete_posts(\n",
    "#     login_user=\"user0002\",\n",
    "#     post_ids=[first_toot_id],\n",
    "# )\n",
    "\n",
    "# # Check user0002's number of toots again, should be 1 less\n",
    "# timeline = get_own_timeline(\"user0002\")"
   ]
  },
  {
   "cell_type": "markdown",
   "metadata": {},
   "source": [
    "## Delete all posts\n",
    "\n",
    "Delete all posts for a list of users."
   ]
  },
  {
   "cell_type": "code",
   "execution_count": null,
   "metadata": {},
   "outputs": [],
   "source": [
    "# for user in [\"user0001\", \"user0002\"]:\n",
    "#     delete_posts(login_user=user, delete_all=True, skip_confirm=True)"
   ]
  },
  {
   "cell_type": "markdown",
   "metadata": {},
   "source": [
    "## Reset all users\n",
    "\n",
    "Delete user's posts, likes, boosts, and reset display name and bio."
   ]
  },
  {
   "cell_type": "code",
   "execution_count": null,
   "metadata": {},
   "outputs": [],
   "source": [
    "from mastodon_sim.mastodon_ops import reset_users\n",
    "from mastodon_sim.mastodon_utils import get_users_from_env\n",
    "\n",
    "# Get all users from .env file\n",
    "users = get_users_from_env()\n",
    "\n",
    "# Reset all users\n",
    "reset_users(users, skip_confirm=True, parallel=True)\n",
    "\n",
    "# Check that the public timeline is now empty\n",
    "assert not len(get_public_timeline(limit=None))"
   ]
  },
  {
   "cell_type": "markdown",
   "metadata": {},
   "source": [
    "And that's it so far!"
   ]
  },
  {
   "cell_type": "markdown",
   "metadata": {},
   "source": [
    "## [TODO] \n",
    "\n",
    "### Operations to add:\n",
    "\n",
    "- favourites\n",
    "- bookmarks\n",
    "- timeline_hashtag\n",
    "- conversations\n",
    "- trending_tags\n",
    "- status_update\n",
    "- admin_account_moderate\n",
    "\n",
    "https://mastodonpy.readthedocs.io/en/stable/index.html"
   ]
  }
 ],
 "metadata": {
  "kernelspec": {
   "display_name": "mastodon-sim-env",
   "language": "python",
   "name": "python3"
  },
  "language_info": {
   "codemirror_mode": {
    "name": "ipython",
    "version": 3
   },
   "file_extension": ".py",
   "mimetype": "text/x-python",
   "name": "python",
   "nbconvert_exporter": "python",
   "pygments_lexer": "ipython3",
   "version": "3.11.9"
  }
 },
 "nbformat": 4,
 "nbformat_minor": 2
}
