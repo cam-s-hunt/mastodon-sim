{
 "cells": [
  {
   "cell_type": "markdown",
   "metadata": {},
   "source": [
    "# Mastodon API operations\n",
    "\n",
    "API operations defined in `mastodon_sim.mastodon_ops`."
   ]
  },
  {
   "cell_type": "code",
   "execution_count": 1,
   "metadata": {},
   "outputs": [],
   "source": [
    "%load_ext autoreload\n",
    "%autoreload 2"
   ]
  },
  {
   "cell_type": "markdown",
   "metadata": {},
   "source": [
    "## Check environment\n",
    "\n",
    "Get environment variables with `.env` file (in project root directory)"
   ]
  },
  {
   "cell_type": "code",
   "execution_count": 2,
   "metadata": {},
   "outputs": [
    {
     "name": "stdout",
     "output_type": "stream",
     "text": [
      "2024-07-06T18:40:13.481798+0000 INFO Successfully loaded .env file.\n",
      "2024-07-06T18:40:13.483253+0000 INFO API_BASE_URL: https://social-sandbox.com\n",
      "2024-07-06T18:40:13.483774+0000 INFO EMAIL_PREFIX: austinmw89\n",
      "2024-07-06T18:40:13.484196+0000 INFO MASTODON_CLIENT_ID: N*****************************************E\n",
      "2024-07-06T18:40:13.484644+0000 INFO MASTODON_CLIENT_SECRET: b*****************************************s\n",
      "2024-07-06T18:40:13.485098+0000 INFO USER0003_PASSWORD: f******************************6\n",
      "2024-07-06T18:40:13.485563+0000 INFO USER0002_PASSWORD: 8******************************b\n",
      "2024-07-06T18:40:13.486101+0000 INFO USER0004_PASSWORD: 7******************************e\n",
      "2024-07-06T18:40:13.486527+0000 INFO USER0001_PASSWORD: 9******************************5\n",
      "2024-07-06T18:40:13.487013+0000 INFO USER0005_PASSWORD: a******************************a\n"
     ]
    }
   ],
   "source": [
    "from mastodon_sim.mastodon_ops import check_env\n",
    "\n",
    "check_env()"
   ]
  },
  {
   "cell_type": "markdown",
   "metadata": {},
   "source": [
    "## Get Mastodon client\n",
    "\n",
    "Create Mastodon client object"
   ]
  },
  {
   "cell_type": "code",
   "execution_count": 3,
   "metadata": {},
   "outputs": [],
   "source": [
    "from mastodon_sim.mastodon_ops import get_client\n",
    "\n",
    "mastodon = get_client()"
   ]
  },
  {
   "cell_type": "markdown",
   "metadata": {},
   "source": [
    "## Login user\n",
    "\n",
    "Get access token for `user0001`."
   ]
  },
  {
   "cell_type": "code",
   "execution_count": 4,
   "metadata": {},
   "outputs": [
    {
     "name": "stdout",
     "output_type": "stream",
     "text": [
      "access_token: pAvbKpkDFp3kOXZMlwRarowT2H7Ypj4LuyNo6UmX12g\n"
     ]
    }
   ],
   "source": [
    "from mastodon_sim.mastodon_ops import login\n",
    "\n",
    "access_token = login(\"user0001\")\n",
    "print(f\"access_token: {access_token}\")"
   ]
  },
  {
   "cell_type": "markdown",
   "metadata": {},
   "source": [
    "## Update name and bio\n",
    "\n",
    "Update `user0001`'s display name and bio."
   ]
  },
  {
   "cell_type": "code",
   "execution_count": 5,
   "metadata": {},
   "outputs": [
    {
     "name": "stdout",
     "output_type": "stream",
     "text": [
      "2024-07-06T18:40:14.363573+0000 INFO user0001 successfully updated the display name and bio.\n"
     ]
    }
   ],
   "source": [
    "from mastodon_sim.mastodon_ops import update_bio\n",
    "\n",
    "display_name = \"Bob\"\n",
    "bio = \"Hello, I am user0001!\"\n",
    "\n",
    "update_bio(login_user=\"user0001\", display_name=display_name, bio=bio)"
   ]
  },
  {
   "cell_type": "markdown",
   "metadata": {},
   "source": [
    "## Read name and bio\n",
    "\n",
    "Have one user read another user's bio. Defaults to \"Not provided\" if the user has not set either."
   ]
  },
  {
   "cell_type": "code",
   "execution_count": 6,
   "metadata": {},
   "outputs": [
    {
     "name": "stdout",
     "output_type": "stream",
     "text": [
      "2024-07-06T18:40:14.863410+0000 INFO User: user0001\n",
      "Display Name: Bob\n",
      "Bio: <p>Hello, I am user0001!</p>\n",
      "2024-07-06T18:40:15.290990+0000 INFO User: user0002\n",
      "Display Name: Not provided\n",
      "Bio: Not provided\n"
     ]
    }
   ],
   "source": [
    "from mastodon_sim.mastodon_ops import read_bio\n",
    "\n",
    "display_name, bio = read_bio(login_user=\"user0002\", target_user=\"user0001\")\n",
    "\n",
    "display_name, bio = read_bio(login_user=\"user0001\", target_user=\"user0002\")"
   ]
  },
  {
   "cell_type": "markdown",
   "metadata": {},
   "source": [
    "## Follow user\n",
    "\n",
    "Make `user0001` follow `user0002` and vice versa."
   ]
  },
  {
   "cell_type": "code",
   "execution_count": 7,
   "metadata": {},
   "outputs": [
    {
     "name": "stdout",
     "output_type": "stream",
     "text": [
      "2024-07-06T18:40:15.728540+0000 INFO user0001 is now following user0002.\n",
      "2024-07-06T18:40:16.225390+0000 INFO user0002 is now following user0001.\n"
     ]
    }
   ],
   "source": [
    "from mastodon_sim.mastodon_ops import follow\n",
    "\n",
    "follow(login_user=\"user0001\", follow_user=\"user0002\")\n",
    "\n",
    "follow(login_user=\"user0002\", follow_user=\"user0001\")"
   ]
  },
  {
   "cell_type": "markdown",
   "metadata": {},
   "source": [
    "## Unfollow user\n",
    "\n",
    "Make `user0002` unfollow `user0001`."
   ]
  },
  {
   "cell_type": "code",
   "execution_count": 8,
   "metadata": {},
   "outputs": [
    {
     "name": "stdout",
     "output_type": "stream",
     "text": [
      "2024-07-06T18:40:16.725078+0000 INFO user0002 has unfollowed user0001.\n"
     ]
    }
   ],
   "source": [
    "from mastodon_sim.mastodon_ops import unfollow\n",
    "\n",
    "unfollow(login_user=\"user0002\", unfollow_user=\"user0001\")"
   ]
  },
  {
   "cell_type": "markdown",
   "metadata": {},
   "source": [
    "## Toot (post a status)\n",
    "\n",
    "Make `user0001` and `user0002` toot a `status`.\n",
    "\n",
    "Note that \"toot\" is analogous to \"tweet\"."
   ]
  },
  {
   "cell_type": "code",
   "execution_count": 9,
   "metadata": {},
   "outputs": [
    {
     "name": "stdout",
     "output_type": "stream",
     "text": [
      "2024-07-06T18:40:17.220111+0000 INFO user0001 successfully tooted the status.\n",
      "2024-07-06T18:40:17.682157+0000 INFO user0002 successfully tooted the status.\n"
     ]
    }
   ],
   "source": [
    "from mastodon_sim.mastodon_ops import toot\n",
    "\n",
    "toot(login_user=\"user0001\", status=\"Hello World, from user0001!\")\n",
    "\n",
    "toot(login_user=\"user0002\", status=\"Hello World, from user0002!\")"
   ]
  },
  {
   "cell_type": "markdown",
   "metadata": {},
   "source": [
    "## Post a status with additional settings\n",
    "\n",
    "Note that `toot` is a synonym for `post_status`, but only takes the status text as input."
   ]
  },
  {
   "cell_type": "code",
   "execution_count": 10,
   "metadata": {},
   "outputs": [
    {
     "name": "stdout",
     "output_type": "stream",
     "text": [
      "2024-07-06T18:40:18.224355+0000 INFO user0002 successfully posted the status.\n"
     ]
    }
   ],
   "source": [
    "from mastodon_sim.mastodon_ops import post_status\n",
    "\n",
    "post_status(\n",
    "    login_user=\"user0002\",\n",
    "    status=\"Hello World, from user0002! This is an unlisted toot with a content warning.\",\n",
    "    visibility=\"unlisted\",\n",
    "    sensitive=True,\n",
    "    spoiler_text=\"Content warning\",\n",
    ")"
   ]
  },
  {
   "cell_type": "markdown",
   "metadata": {},
   "source": [
    "## Send a DM\n",
    "\n",
    "Send a DM from `user0001` to `user0002`."
   ]
  },
  {
   "cell_type": "code",
   "execution_count": 11,
   "metadata": {},
   "outputs": [
    {
     "name": "stdout",
     "output_type": "stream",
     "text": [
      "2024-07-06T18:40:18.659847+0000 INFO user0001 successfully posted the status.\n"
     ]
    }
   ],
   "source": [
    "post_status(\n",
    "    login_user=\"user0001\",\n",
    "    status=\"@user0002 Hello, this is a direct message!\",\n",
    "    visibility=\"direct\",\n",
    ")"
   ]
  },
  {
   "cell_type": "markdown",
   "metadata": {},
   "source": [
    "###"
   ]
  },
  {
   "cell_type": "markdown",
   "metadata": {},
   "source": [
    "## Post with media attachments"
   ]
  },
  {
   "cell_type": "code",
   "execution_count": 12,
   "metadata": {},
   "outputs": [
    {
     "name": "stdout",
     "output_type": "stream",
     "text": [
      "2024-07-06T18:40:21.224876+0000 INFO user0001 successfully posted the status.\n"
     ]
    }
   ],
   "source": [
    "image_file = \"../infrastructure/mastodon-on-aws/architecture.png\"\n",
    "\n",
    "post_status(\n",
    "    login_user=\"user0001\",\n",
    "    status=\"Check out this image!\",\n",
    "    media_files=[image_file],\n",
    ")"
   ]
  },
  {
   "cell_type": "markdown",
   "metadata": {},
   "source": [
    "## Create a poll"
   ]
  },
  {
   "cell_type": "code",
   "execution_count": 13,
   "metadata": {},
   "outputs": [
    {
     "name": "stdout",
     "output_type": "stream",
     "text": [
      "2024-07-06T18:40:21.690494+0000 INFO user0001 successfully posted the status.\n"
     ]
    }
   ],
   "source": [
    "post_status(\n",
    "    login_user=\"user0001\",\n",
    "    status=\"What's your favorite color?\",\n",
    "    poll_options=[\"Red\", \"Blue\", \"Green\"],\n",
    "    poll_expires_in=86400,\n",
    ")"
   ]
  },
  {
   "cell_type": "markdown",
   "metadata": {},
   "source": [
    "## Get the public timeline\n",
    "\n",
    "Get the entire pubic timeline in reverse chronological order, up to `limit`."
   ]
  },
  {
   "cell_type": "code",
   "execution_count": 14,
   "metadata": {},
   "outputs": [
    {
     "name": "stdout",
     "output_type": "stream",
     "text": [
      "2024-07-06T18:40:22.414219+0000 INFO Retrieved 7 posts from the public timeline.\n",
      "----------------------------------------\n",
      "Post ID: 112741005501385617\n",
      "Created At: 2024-07-06 18:40:21.638000+00:00\n",
      "User: Bob (@user0001)\n",
      "Content: <p>What&#39;s your favorite color?</p>\n",
      "URL: https://social-sandbox.com/@user0001/112741005501385617\n",
      "Favourites: 0, Reblogs: 0\n",
      "----------------------------------------\n",
      "Post ID: 112741005471573567\n",
      "Created At: 2024-07-06 18:40:21.184000+00:00\n",
      "User: Bob (@user0001)\n",
      "Content: <p>Check out this image!</p>\n",
      "URL: https://social-sandbox.com/@user0001/112741005471573567\n",
      "Favourites: 0, Reblogs: 0\n",
      "----------------------------------------\n",
      "Post ID: 112741005239264115\n",
      "Created At: 2024-07-06 18:40:17.640000+00:00\n",
      "User:  (@user0002)\n",
      "Content: <p>Hello World, from user0002!</p>\n",
      "URL: https://social-sandbox.com/@user0002/112741005239264115\n",
      "Favourites: 0, Reblogs: 0\n",
      "----------------------------------------\n",
      "Post ID: 112741005207549294\n",
      "Created At: 2024-07-06 18:40:17.158000+00:00\n",
      "User: Bob (@user0001)\n",
      "Content: <p>Hello World, from user0001!</p>\n",
      "URL: https://social-sandbox.com/@user0001/112741005207549294\n",
      "Favourites: 0, Reblogs: 0\n",
      "----------------------------------------\n",
      "Post ID: 112740989622159240\n",
      "Created At: 2024-07-06 18:36:19.342000+00:00\n",
      "User: Bob (@user0001)\n",
      "Content: <p>What&#39;s your favorite color?</p>\n",
      "URL: https://social-sandbox.com/@user0001/112740989622159240\n",
      "Favourites: 0, Reblogs: 0\n",
      "----------------------------------------\n",
      "Post ID: 112740989589838447\n",
      "Created At: 2024-07-06 18:36:18.847000+00:00\n",
      "User: Bob (@user0001)\n",
      "Content: <p>Check out this image!</p>\n",
      "URL: https://social-sandbox.com/@user0001/112740989589838447\n",
      "Favourites: 0, Reblogs: 0\n",
      "----------------------------------------\n",
      "Post ID: 112740989331154318\n",
      "Created At: 2024-07-06 18:36:14.901000+00:00\n",
      "User: Bob (@user0001)\n",
      "Content: <p>Hello World, from user0001!</p>\n",
      "URL: https://social-sandbox.com/@user0001/112740989331154318\n",
      "Favourites: 0, Reblogs: 0\n",
      "----------------------------------------\n"
     ]
    }
   ],
   "source": [
    "from mastodon_sim.mastodon_ops import get_public_timeline, print_timeline\n",
    "\n",
    "timeline = get_public_timeline(limit=None)\n",
    "print_timeline(timeline)"
   ]
  },
  {
   "cell_type": "markdown",
   "metadata": {},
   "source": [
    "## Get own timeline\n",
    "\n",
    "Retrieve `user0001`'s timeline. Fetches the logged-in user's home timeline (i.e., followed users and self). Offers filtering options:\n",
    "- `all`: Default, shows all posts\n",
    "- `self`: Shows only the user's own posts\n",
    "- `others`: Shows only posts from followed users"
   ]
  },
  {
   "cell_type": "code",
   "execution_count": 15,
   "metadata": {},
   "outputs": [
    {
     "name": "stdout",
     "output_type": "stream",
     "text": [
      "2024-07-06T18:40:23.022249+0000 INFO user0001 retrieved 9 posts from their timeline (filter: all).\n",
      "2024-07-06T18:40:23.596297+0000 INFO user0001 retrieved 7 posts from their timeline (filter: self).\n",
      "2024-07-06T18:40:24.207085+0000 INFO user0001 retrieved 2 posts from their timeline (filter: others).\n",
      "----------------------------------------\n",
      "Post ID: 112741005275033571\n",
      "Created At: 2024-07-06 18:40:18.185000+00:00\n",
      "User:  (@user0002)\n",
      "Content: <p>Hello World, from user0002! This is an unlisted toot with a content warning.</p>\n",
      "URL: https://social-sandbox.com/@user0002/112741005275033571\n",
      "Favourites: 0, Reblogs: 0\n",
      "----------------------------------------\n",
      "Post ID: 112741005239264115\n",
      "Created At: 2024-07-06 18:40:17.640000+00:00\n",
      "User:  (@user0002)\n",
      "Content: <p>Hello World, from user0002!</p>\n",
      "URL: https://social-sandbox.com/@user0002/112741005239264115\n",
      "Favourites: 0, Reblogs: 0\n",
      "----------------------------------------\n"
     ]
    }
   ],
   "source": [
    "from mastodon_sim.mastodon_ops import get_own_timeline\n",
    "\n",
    "# Notice the retrieved count is different for each of these\n",
    "timeline = get_own_timeline(\"user0001\", filter_type=\"all\")\n",
    "timeline = get_own_timeline(\"user0001\", filter_type=\"self\")\n",
    "timeline = get_own_timeline(\"user0001\", filter_type=\"others\")\n",
    "\n",
    "# Print the timeline (in this case, all others following, but not self)\n",
    "print_timeline(timeline)"
   ]
  },
  {
   "cell_type": "markdown",
   "metadata": {},
   "source": [
    "## Read a user's timeline (non-global)\n",
    "\n",
    "From the perspective of `user0002`, read `user0001`'s timeline.\n",
    "\n",
    "**Accessible Information**:\n",
    "  - `user0002` can read `user0001`'s public and unlisted posts, as well as follower-only posts if `user0002` is a follower.\n",
    "  - Details available include post ID, creation date, username, display name, content, URL, favourites count, and reblogs count.\n",
    "\n",
    "**Restricted Information**:\n",
    "  - `user0002` cannot access private posts or direct messages.\n",
    "\n",
    "**Impact of Being Blocked**:\n",
    "  - If `user0001` has blocked `user0002`, `user0002` cannot retrieve any posts from `user0001`'s timeline.\n",
    "  - The function will return an empty list due to the block enforced by the Mastodon API."
   ]
  },
  {
   "cell_type": "code",
   "execution_count": 16,
   "metadata": {},
   "outputs": [
    {
     "name": "stdout",
     "output_type": "stream",
     "text": [
      "2024-07-06T18:40:24.806500+0000 INFO user0002 retrieved 8 posts from user0001's timeline.\n",
      "----------------------------------------\n",
      "Post ID: 112741005501385617\n",
      "Created At: 2024-07-06 18:40:21.638000+00:00\n",
      "User: Bob (@user0001)\n",
      "Content: <p>What&#39;s your favorite color?</p>\n",
      "URL: https://social-sandbox.com/@user0001/112741005501385617\n",
      "Favourites: 0, Reblogs: 0\n",
      "----------------------------------------\n",
      "Post ID: 112741005471573567\n",
      "Created At: 2024-07-06 18:40:21.184000+00:00\n",
      "User: Bob (@user0001)\n",
      "Content: <p>Check out this image!</p>\n",
      "URL: https://social-sandbox.com/@user0001/112741005471573567\n",
      "Favourites: 0, Reblogs: 0\n",
      "----------------------------------------\n",
      "Post ID: 112741005303290161\n",
      "Created At: 2024-07-06 18:40:18.618000+00:00\n",
      "User: Bob (@user0001)\n",
      "Content: <p><span class=\"h-card\" translate=\"no\"><a href=\"https://social-sandbox.com/@user0002\" class=\"u-url mention\">@<span>user0002</span></a></span> Hello, this is a direct message!</p>\n",
      "URL: https://social-sandbox.com/@user0001/112741005303290161\n",
      "Favourites: 0, Reblogs: 0\n",
      "----------------------------------------\n",
      "Post ID: 112741005207549294\n",
      "Created At: 2024-07-06 18:40:17.158000+00:00\n",
      "User: Bob (@user0001)\n",
      "Content: <p>Hello World, from user0001!</p>\n",
      "URL: https://social-sandbox.com/@user0001/112741005207549294\n",
      "Favourites: 0, Reblogs: 0\n",
      "----------------------------------------\n",
      "Post ID: 112740989622159240\n",
      "Created At: 2024-07-06 18:36:19.342000+00:00\n",
      "User: Bob (@user0001)\n",
      "Content: <p>What&#39;s your favorite color?</p>\n",
      "URL: https://social-sandbox.com/@user0001/112740989622159240\n",
      "Favourites: 0, Reblogs: 0\n",
      "----------------------------------------\n",
      "Post ID: 112740989589838447\n",
      "Created At: 2024-07-06 18:36:18.847000+00:00\n",
      "User: Bob (@user0001)\n",
      "Content: <p>Check out this image!</p>\n",
      "URL: https://social-sandbox.com/@user0001/112740989589838447\n",
      "Favourites: 0, Reblogs: 0\n",
      "----------------------------------------\n",
      "Post ID: 112740989424180790\n",
      "Created At: 2024-07-06 18:36:16.322000+00:00\n",
      "User: Bob (@user0001)\n",
      "Content: <p><span class=\"h-card\" translate=\"no\"><a href=\"https://social-sandbox.com/@user0002\" class=\"u-url mention\">@<span>user0002</span></a></span> Hello, this is a direct message!</p>\n",
      "URL: https://social-sandbox.com/@user0001/112740989424180790\n",
      "Favourites: 0, Reblogs: 0\n",
      "----------------------------------------\n",
      "Post ID: 112740989331154318\n",
      "Created At: 2024-07-06 18:36:14.901000+00:00\n",
      "User: Bob (@user0001)\n",
      "Content: <p>Hello World, from user0001!</p>\n",
      "URL: https://social-sandbox.com/@user0001/112740989331154318\n",
      "Favourites: 0, Reblogs: 0\n",
      "----------------------------------------\n"
     ]
    }
   ],
   "source": [
    "from mastodon_sim.mastodon_ops import get_user_timeline\n",
    "\n",
    "timeline = get_user_timeline(login_user=\"user0002\", target_user=\"user0001\", limit=None)\n",
    "print_timeline(timeline)"
   ]
  },
  {
   "cell_type": "markdown",
   "metadata": {},
   "source": [
    "## Block / unblock a user\n",
    "\n",
    "Make `user0001` block or unblock `user0002`."
   ]
  },
  {
   "cell_type": "code",
   "execution_count": 17,
   "metadata": {},
   "outputs": [
    {
     "name": "stdout",
     "output_type": "stream",
     "text": [
      "2024-07-06T18:40:25.404439+0000 INFO user0001 has blocked user0002.\n",
      "2024-07-06T18:40:25.847417+0000 INFO user0002 retrieved 0 posts from user0001's timeline.\n",
      "2024-07-06T18:40:26.351399+0000 INFO user0001 has unblocked user0002.\n",
      "2024-07-06T18:40:26.945542+0000 INFO user0002 retrieved 8 posts from user0001's timeline.\n"
     ]
    }
   ],
   "source": [
    "from mastodon_sim.mastodon_ops import block_user, unblock_user\n",
    "\n",
    "# user001 blocks user002\n",
    "block_user(login_user=\"user0001\", target_user=\"user0002\")\n",
    "\n",
    "# user002 tries to read user001's timeline, but retrieves zero toots\n",
    "timeline = get_user_timeline(login_user=\"user0002\", target_user=\"user0001\")\n",
    "\n",
    "# user001 unblocks user002\n",
    "unblock_user(login_user=\"user0001\", target_user=\"user0002\")\n",
    "\n",
    "# user002 tries to read user001's timeline again, and retrieves the toots\n",
    "timeline = get_user_timeline(login_user=\"user0002\", target_user=\"user0001\")"
   ]
  },
  {
   "cell_type": "markdown",
   "metadata": {},
   "source": [
    "## Mute account (user)\n",
    "\n",
    "Make `user0001` mute and unmute `user0002`."
   ]
  },
  {
   "cell_type": "code",
   "execution_count": 18,
   "metadata": {},
   "outputs": [
    {
     "name": "stdout",
     "output_type": "stream",
     "text": [
      "2024-07-06T18:40:27.473626+0000 INFO Successfully muted account @user0002 (ID: 112739472155322330) indefinitely without notifications.\n",
      "2024-07-06T18:40:28.034105+0000 INFO Successfully unmuted account @user0002 (ID: 112739472155322330).\n"
     ]
    }
   ],
   "source": [
    "from mastodon_sim.mastodon_ops import mute_account, unmute_account\n",
    "\n",
    "mute_account(\n",
    "    login_user=\"user0001\",\n",
    "    mute_user=\"user0002\",\n",
    "    notifications=False,\n",
    "    duration=None,\n",
    ")\n",
    "\n",
    "unmute_account(\n",
    "    login_user=\"user0001\",\n",
    "    unmute_user=\"user0002\",\n",
    ")"
   ]
  },
  {
   "cell_type": "markdown",
   "metadata": {},
   "source": [
    "## Like (favorite) a toot\n",
    "\n",
    "Make `user0002` like `user0001`'s toot with ID `toot_id`."
   ]
  },
  {
   "cell_type": "code",
   "execution_count": 19,
   "metadata": {},
   "outputs": [
    {
     "name": "stdout",
     "output_type": "stream",
     "text": [
      "2024-07-06T18:40:28.640534+0000 INFO user0002 retrieved 8 posts from user0001's timeline.\n",
      "2024-07-06T18:40:29.129229+0000 INFO user0002 liked post 112741005501385617 from user0001.\n"
     ]
    }
   ],
   "source": [
    "from mastodon_sim.mastodon_ops import like_toot\n",
    "\n",
    "timeline = get_user_timeline(login_user=\"user0002\", target_user=\"user0001\")\n",
    "\n",
    "# Most recent toot is index 0 (reverse chronological order)\n",
    "most_recent_toot_id = timeline[0][\"id\"]\n",
    "\n",
    "like_toot(login_user=\"user0002\", target_user=\"user0001\", toot_id=most_recent_toot_id)"
   ]
  },
  {
   "cell_type": "markdown",
   "metadata": {},
   "source": [
    "## Boost (reblog) a toot\n",
    "\n",
    "Make `user0002` boost `user0001`'s toot with ID `toot_id`."
   ]
  },
  {
   "cell_type": "code",
   "execution_count": 20,
   "metadata": {},
   "outputs": [
    {
     "name": "stdout",
     "output_type": "stream",
     "text": [
      "2024-07-06T18:40:29.719587+0000 INFO user0002 retrieved 8 posts from user0001's timeline.\n",
      "2024-07-06T18:40:30.290981+0000 INFO user0002 boosted post 112741005501385617 from user0001.\n"
     ]
    }
   ],
   "source": [
    "from mastodon_sim.mastodon_ops import boost_toot\n",
    "\n",
    "timeline = get_user_timeline(login_user=\"user0002\", target_user=\"user0001\")\n",
    "most_recent_toot_id = timeline[0][\"id\"]\n",
    "\n",
    "boost_toot(login_user=\"user0002\", target_user=\"user0001\", toot_id=most_recent_toot_id)"
   ]
  },
  {
   "cell_type": "markdown",
   "metadata": {},
   "source": [
    "## Post a reply\n",
    "\n",
    "Make `user0002` reply to `user0001`'s post (a poll)."
   ]
  },
  {
   "cell_type": "code",
   "execution_count": 21,
   "metadata": {},
   "outputs": [
    {
     "name": "stdout",
     "output_type": "stream",
     "text": [
      "2024-07-06T18:40:31.006265+0000 INFO user0002 retrieved 8 posts from user0001's timeline.\n",
      "Last toot: <p>What&#39;s your favorite color?</p>\n",
      "2024-07-06T18:40:31.505374+0000 INFO user0002 successfully posted the status.\n"
     ]
    }
   ],
   "source": [
    "timeline = get_user_timeline(login_user=\"user0002\", target_user=\"user0001\")\n",
    "print(f\"Last toot: {timeline[0]['content']}\")\n",
    "most_recent_toot_id = timeline[0][\"id\"]\n",
    "\n",
    "post_status(\n",
    "    login_user=\"user0002\",\n",
    "    status=\"This is a great poll!\",\n",
    "    in_reply_to_id=most_recent_toot_id,\n",
    ")"
   ]
  },
  {
   "cell_type": "markdown",
   "metadata": {},
   "source": [
    "## Read notifications\n",
    "\n",
    "Read all notifications for `user0001` and clear them."
   ]
  },
  {
   "cell_type": "code",
   "execution_count": 22,
   "metadata": {},
   "outputs": [
    {
     "name": "stdout",
     "output_type": "stream",
     "text": [
      "2024-07-06T18:40:32.056706+0000 INFO Fetched 2 notifications for user user0001\n",
      "2024-07-06T18:40:32.110750+0000 INFO Cleared all 2 notifications for user user0001\n",
      "\n",
      "==================================================\n",
      "ID: 72\n",
      "Type: reblog\n",
      "Created at: 2024-07-06 18:40:30.287000+00:00\n",
      "From: @user0002 ()\n",
      "Reblogged your status: <p>What&#39;s your favorite color?</p>...\n",
      "\n",
      "==================================================\n",
      "ID: 71\n",
      "Type: favourite\n",
      "Created at: 2024-07-06 18:40:29.102000+00:00\n",
      "From: @user0002 ()\n",
      "Favourited your status: <p>What&#39;s your favorite color?</p>...\n",
      "\n",
      "Total notifications: 2\n"
     ]
    }
   ],
   "source": [
    "from mastodon_sim.mastodon_ops import print_notifications, read_notifications\n",
    "\n",
    "notifications = read_notifications(login_user=\"user0001\", clear=True, limit=None)\n",
    "print_notifications(notifications)"
   ]
  },
  {
   "cell_type": "markdown",
   "metadata": {},
   "source": [
    "## Delete post(s)\n",
    "\n",
    "Make `user0002` delete their last post (the reply to `user0001`'s poll)."
   ]
  },
  {
   "cell_type": "code",
   "execution_count": 23,
   "metadata": {},
   "outputs": [],
   "source": [
    "# from mastodon_sim.mastodon_ops import delete_posts\n",
    "\n",
    "# # Check user0002's number of toots\n",
    "# timeline = get_own_timeline(\"user0002\")\n",
    "\n",
    "# delete_posts(\n",
    "#     login_user=\"user0002\",\n",
    "#     recent_count=1,\n",
    "# )\n",
    "\n",
    "# # Check user0002's number of toots again, should be 1 less\n",
    "# timeline = get_own_timeline(\"user0002\")"
   ]
  },
  {
   "cell_type": "markdown",
   "metadata": {},
   "source": [
    "Delete a post by post ID."
   ]
  },
  {
   "cell_type": "code",
   "execution_count": 24,
   "metadata": {},
   "outputs": [],
   "source": [
    "# # Get user0002's first toot (and print the number of toots)\n",
    "# timeline = get_own_timeline(\"user0002\")\n",
    "# first_toot_id = timeline[0][\"id\"]\n",
    "\n",
    "# delete_posts(\n",
    "#     login_user=\"user0002\",\n",
    "#     post_ids=[first_toot_id],\n",
    "# )\n",
    "\n",
    "# # Check user0002's number of toots again, should be 1 less\n",
    "# timeline = get_own_timeline(\"user0002\")"
   ]
  },
  {
   "cell_type": "markdown",
   "metadata": {},
   "source": [
    "## Delete all posts\n",
    "\n",
    "Delete all posts for a list of users."
   ]
  },
  {
   "cell_type": "code",
   "execution_count": 25,
   "metadata": {},
   "outputs": [],
   "source": [
    "# for user in [\"user0001\", \"user0002\"]:\n",
    "#     delete_posts(login_user=user, delete_all=True, skip_confirm=True)"
   ]
  },
  {
   "cell_type": "markdown",
   "metadata": {},
   "source": [
    "## Reset all users\n",
    "\n",
    "Delete user's posts, likes, boosts, and reset display name and bio."
   ]
  },
  {
   "cell_type": "code",
   "execution_count": 26,
   "metadata": {},
   "outputs": [
    {
     "name": "stdout",
     "output_type": "stream",
     "text": [
      "2024-07-06T18:40:32.501488+0000 INFO Starting comprehensive reset process for user: user0001\n",
      "2024-07-06T18:40:32.503198+0000 INFO Deleting all posts for user user0001...\n",
      "2024-07-06T18:40:33.248019+0000 INFO Successfully deleted post with ID: 112741005501385617\n",
      "2024-07-06T18:40:33.339337+0000 INFO Successfully deleted post with ID: 112741005471573567\n",
      "2024-07-06T18:40:33.441106+0000 INFO Successfully deleted post with ID: 112741005303290161\n",
      "2024-07-06T18:40:33.514307+0000 INFO Successfully deleted post with ID: 112741005207549294\n",
      "2024-07-06T18:40:33.590660+0000 INFO Successfully deleted post with ID: 112740989622159240\n",
      "2024-07-06T18:40:33.685023+0000 INFO Successfully deleted post with ID: 112740989589838447\n",
      "2024-07-06T18:40:33.758015+0000 INFO Successfully deleted post with ID: 112740989424180790\n",
      "2024-07-06T18:40:33.840324+0000 INFO Successfully deleted post with ID: 112740989331154318\n",
      "2024-07-06T18:40:33.843468+0000 INFO Deletion process completed. Attempted to delete 8 post(s).\n",
      "2024-07-06T18:40:33.846110+0000 INFO Removing favourites and boosts for user user0001...\n",
      "2024-07-06T18:40:33.894426+0000 INFO Removed 0 out of 0 favourites.\n",
      "2024-07-06T18:40:33.982777+0000 INFO Removed 0 out of 0 boosts.\n",
      "2024-07-06T18:40:33.986072+0000 INFO Unfollowing all users for user0001...\n",
      "2024-07-06T18:40:34.078675+0000 INFO Attempting to unfollow 0 users for user0001...\n",
      "2024-07-06T18:40:34.081679+0000 INFO Successfully unfollowed 0 out of 0 users for user0001.\n",
      "2024-07-06T18:40:34.084113+0000 INFO Resetting profile information for user user0001...\n",
      "2024-07-06T18:40:34.145345+0000 INFO Profile information reset successfully.\n",
      "2024-07-06T18:40:34.148143+0000 INFO Comprehensive reset process completed for user: user0001\n",
      "2024-07-06T18:40:34.547466+0000 INFO Starting comprehensive reset process for user: user0002\n",
      "2024-07-06T18:40:34.549267+0000 INFO Deleting all posts for user user0002...\n",
      "2024-07-06T18:40:35.204523+0000 INFO Successfully deleted post with ID: 112741006144481915\n",
      "2024-07-06T18:40:35.286155+0000 INFO Successfully deleted post with ID: 112741005275033571\n",
      "2024-07-06T18:40:35.374863+0000 INFO Successfully deleted post with ID: 112741005239264115\n",
      "2024-07-06T18:40:35.376215+0000 INFO Deletion process completed. Attempted to delete 3 post(s).\n",
      "2024-07-06T18:40:35.378042+0000 INFO Removing favourites and boosts for user user0002...\n",
      "2024-07-06T18:40:35.417722+0000 INFO Removed 0 out of 0 favourites.\n",
      "2024-07-06T18:40:35.518698+0000 INFO Removed 0 out of 0 boosts.\n",
      "2024-07-06T18:40:35.520207+0000 INFO Unfollowing all users for user0002...\n",
      "2024-07-06T18:40:35.606603+0000 INFO Attempting to unfollow 0 users for user0002...\n",
      "2024-07-06T18:40:35.609069+0000 INFO Successfully unfollowed 0 out of 0 users for user0002.\n",
      "2024-07-06T18:40:35.611373+0000 INFO Resetting profile information for user user0002...\n",
      "2024-07-06T18:40:35.670412+0000 INFO Profile information reset successfully.\n",
      "2024-07-06T18:40:35.673484+0000 INFO Comprehensive reset process completed for user: user0002\n",
      "2024-07-06T18:40:35.876864+0000 INFO Retrieved 0 posts from the public timeline.\n"
     ]
    }
   ],
   "source": [
    "from mastodon_sim.mastodon_ops import reset_user\n",
    "\n",
    "for user in [\"user0001\", \"user0002\"]:\n",
    "    reset_user(user, skip_confirm=True)\n",
    "\n",
    "assert not len(get_public_timeline(limit=None)), \"Public timeline should be empty now\""
   ]
  },
  {
   "cell_type": "markdown",
   "metadata": {},
   "source": [
    "And that's it so far!"
   ]
  },
  {
   "cell_type": "markdown",
   "metadata": {},
   "source": [
    "## [TODO] \n",
    "\n",
    "### Operations to add:\n",
    "\n",
    "- favourites\n",
    "- bookmarks\n",
    "- timeline_hashtag\n",
    "- conversations\n",
    "- trending_tags\n",
    "- admin_account_moderate\n",
    "- status_update\n",
    "\n",
    "### Utilities to add:\n",
    "\n",
    "- Create and plot a graph of user relationships (follow, block, mute)\n",
    "\n",
    "https://mastodonpy.readthedocs.io/en/stable/index.html"
   ]
  }
 ],
 "metadata": {
  "kernelspec": {
   "display_name": "mastodon-sim-env",
   "language": "python",
   "name": "python3"
  },
  "language_info": {
   "codemirror_mode": {
    "name": "ipython",
    "version": 3
   },
   "file_extension": ".py",
   "mimetype": "text/x-python",
   "name": "python",
   "nbconvert_exporter": "python",
   "pygments_lexer": "ipython3",
   "version": "3.11.9"
  }
 },
 "nbformat": 4,
 "nbformat_minor": 2
}
