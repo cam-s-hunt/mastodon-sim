{
 "cells": [
  {
   "cell_type": "markdown",
   "metadata": {},
   "source": [
    "# Mastodon API operations\n",
    "\n",
    "API operations defined in `mastodon_sim.mastodon_ops`."
   ]
  },
  {
   "cell_type": "code",
   "execution_count": 1,
   "metadata": {},
   "outputs": [],
   "source": [
    "%load_ext autoreload\n",
    "%autoreload 2"
   ]
  },
  {
   "cell_type": "markdown",
   "metadata": {},
   "source": [
    "## Check environment\n",
    "\n",
    "Get environment variables with `.env` file (in project root directory)"
   ]
  },
  {
   "cell_type": "code",
   "execution_count": 2,
   "metadata": {},
   "outputs": [
    {
     "name": "stdout",
     "output_type": "stream",
     "text": [
      "2024-07-06T18:18:16.963163+0000 INFO Successfully loaded .env file.\n",
      "2024-07-06T18:18:16.965222+0000 INFO API_BASE_URL: https://social-sandbox.com\n",
      "2024-07-06T18:18:16.965664+0000 INFO EMAIL_PREFIX: austinmw89\n",
      "2024-07-06T18:18:16.966191+0000 INFO MASTODON_CLIENT_ID: N*****************************************E\n",
      "2024-07-06T18:18:16.966777+0000 INFO MASTODON_CLIENT_SECRET: b*****************************************s\n",
      "2024-07-06T18:18:16.967290+0000 INFO USER0003_PASSWORD: f******************************6\n",
      "2024-07-06T18:18:16.967835+0000 INFO USER0002_PASSWORD: 8******************************b\n",
      "2024-07-06T18:18:16.968304+0000 INFO USER0004_PASSWORD: 7******************************e\n",
      "2024-07-06T18:18:16.968686+0000 INFO USER0001_PASSWORD: 9******************************5\n",
      "2024-07-06T18:18:16.969182+0000 INFO USER0005_PASSWORD: a******************************a\n"
     ]
    }
   ],
   "source": [
    "from mastodon_sim.mastodon_ops import check_env\n",
    "\n",
    "check_env()"
   ]
  },
  {
   "cell_type": "markdown",
   "metadata": {},
   "source": [
    "## Get Mastodon client\n",
    "\n",
    "Create Mastodon client object"
   ]
  },
  {
   "cell_type": "code",
   "execution_count": 3,
   "metadata": {},
   "outputs": [],
   "source": [
    "from mastodon_sim.mastodon_ops import get_client\n",
    "\n",
    "mastodon = get_client()"
   ]
  },
  {
   "cell_type": "markdown",
   "metadata": {},
   "source": [
    "## Login user\n",
    "\n",
    "Get access token for `user0001`."
   ]
  },
  {
   "cell_type": "code",
   "execution_count": 4,
   "metadata": {},
   "outputs": [
    {
     "name": "stdout",
     "output_type": "stream",
     "text": [
      "access_token: pAvbKpkDFp3kOXZMlwRarowT2H7Ypj4LuyNo6UmX12g\n"
     ]
    }
   ],
   "source": [
    "from mastodon_sim.mastodon_ops import login\n",
    "\n",
    "access_token = login(\"user0001\")\n",
    "print(f\"access_token: {access_token}\")"
   ]
  },
  {
   "cell_type": "markdown",
   "metadata": {},
   "source": [
    "## Update name and bio\n",
    "\n",
    "Update `user0001`'s display name and bio."
   ]
  },
  {
   "cell_type": "code",
   "execution_count": 5,
   "metadata": {},
   "outputs": [
    {
     "name": "stdout",
     "output_type": "stream",
     "text": [
      "2024-07-06T18:18:17.782866+0000 INFO user0001 successfully updated the display name and bio.\n"
     ]
    }
   ],
   "source": [
    "from mastodon_sim.mastodon_ops import update_bio\n",
    "\n",
    "display_name = \"Bob\"\n",
    "bio = \"Hello, I am user0001!\"\n",
    "\n",
    "update_bio(login_user=\"user0001\", display_name=display_name, bio=bio)"
   ]
  },
  {
   "cell_type": "markdown",
   "metadata": {},
   "source": [
    "## Read name and bio\n",
    "\n",
    "Have one user read another user's bio. Defaults to \"Not provided\" if the user has not set either."
   ]
  },
  {
   "cell_type": "code",
   "execution_count": 6,
   "metadata": {},
   "outputs": [
    {
     "name": "stdout",
     "output_type": "stream",
     "text": [
      "2024-07-06T18:18:18.264331+0000 INFO User: user0001\n",
      "Display Name: Bob\n",
      "Bio: <p>Hello, I am user0001!</p>\n",
      "2024-07-06T18:18:18.745544+0000 INFO User: user0002\n",
      "Display Name: Not provided\n",
      "Bio: Not provided\n"
     ]
    }
   ],
   "source": [
    "from mastodon_sim.mastodon_ops import read_bio\n",
    "\n",
    "display_name, bio = read_bio(login_user=\"user0002\", target_user=\"user0001\")\n",
    "\n",
    "display_name, bio = read_bio(login_user=\"user0001\", target_user=\"user0002\")"
   ]
  },
  {
   "cell_type": "markdown",
   "metadata": {},
   "source": [
    "## Follow user\n",
    "\n",
    "Make `user0001` follow `user0002` and vice versa."
   ]
  },
  {
   "cell_type": "code",
   "execution_count": 7,
   "metadata": {},
   "outputs": [
    {
     "name": "stdout",
     "output_type": "stream",
     "text": [
      "2024-07-06T18:18:19.261148+0000 INFO user0001 is now following user0002.\n",
      "2024-07-06T18:18:19.774396+0000 INFO user0002 is now following user0001.\n"
     ]
    }
   ],
   "source": [
    "from mastodon_sim.mastodon_ops import follow\n",
    "\n",
    "follow(login_user=\"user0001\", follow_user=\"user0002\")\n",
    "\n",
    "follow(login_user=\"user0002\", follow_user=\"user0001\")"
   ]
  },
  {
   "cell_type": "markdown",
   "metadata": {},
   "source": [
    "## Unfollow user\n",
    "\n",
    "Make `user0002` unfollow `user0001`."
   ]
  },
  {
   "cell_type": "code",
   "execution_count": 8,
   "metadata": {},
   "outputs": [
    {
     "name": "stdout",
     "output_type": "stream",
     "text": [
      "2024-07-06T18:18:20.320810+0000 INFO user0002 has unfollowed user0001.\n"
     ]
    }
   ],
   "source": [
    "from mastodon_sim.mastodon_ops import unfollow\n",
    "\n",
    "unfollow(login_user=\"user0002\", unfollow_user=\"user0001\")"
   ]
  },
  {
   "cell_type": "markdown",
   "metadata": {},
   "source": [
    "## Toot (post a status)\n",
    "\n",
    "Make `user0001` and `user0002` toot a `status`.\n",
    "\n",
    "Note that \"toot\" is analogous to \"tweet\"."
   ]
  },
  {
   "cell_type": "code",
   "execution_count": 9,
   "metadata": {},
   "outputs": [
    {
     "name": "stdout",
     "output_type": "stream",
     "text": [
      "2024-07-06T18:18:20.889806+0000 INFO user0001 successfully tooted the status.\n",
      "2024-07-06T18:18:21.337600+0000 INFO user0002 successfully tooted the status.\n"
     ]
    }
   ],
   "source": [
    "from mastodon_sim.mastodon_ops import toot\n",
    "\n",
    "toot(login_user=\"user0001\", status=\"Hello World, from user0001!\")\n",
    "\n",
    "toot(login_user=\"user0002\", status=\"Hello World, from user0002!\")"
   ]
  },
  {
   "cell_type": "markdown",
   "metadata": {},
   "source": [
    "## Post a status with additional settings\n",
    "\n",
    "Note that `toot` is a synonym for `post_status`, but only takes the status text as input."
   ]
  },
  {
   "cell_type": "code",
   "execution_count": 10,
   "metadata": {},
   "outputs": [
    {
     "name": "stdout",
     "output_type": "stream",
     "text": [
      "2024-07-06T18:18:21.788325+0000 INFO user0002 successfully posted the status.\n"
     ]
    }
   ],
   "source": [
    "from mastodon_sim.mastodon_ops import post_status\n",
    "\n",
    "post_status(\n",
    "    login_user=\"user0002\",\n",
    "    status=\"Hello World, from user0002! This is an unlisted toot with a content warning.\",\n",
    "    visibility=\"unlisted\",\n",
    "    sensitive=True,\n",
    "    spoiler_text=\"Content warning\",\n",
    ")"
   ]
  },
  {
   "cell_type": "markdown",
   "metadata": {},
   "source": [
    "## Send a DM\n",
    "\n",
    "Send a DM from `user0001` to `user0002`."
   ]
  },
  {
   "cell_type": "code",
   "execution_count": 11,
   "metadata": {},
   "outputs": [
    {
     "name": "stdout",
     "output_type": "stream",
     "text": [
      "2024-07-06T18:18:22.364275+0000 INFO user0001 successfully posted the status.\n"
     ]
    }
   ],
   "source": [
    "post_status(\n",
    "    login_user=\"user0001\",\n",
    "    status=\"@user0002 Hello, this is a direct message!\",\n",
    "    visibility=\"direct\",\n",
    ")"
   ]
  },
  {
   "cell_type": "markdown",
   "metadata": {},
   "source": [
    "###"
   ]
  },
  {
   "cell_type": "markdown",
   "metadata": {},
   "source": [
    "## Post with media attachments"
   ]
  },
  {
   "cell_type": "code",
   "execution_count": 12,
   "metadata": {},
   "outputs": [
    {
     "name": "stdout",
     "output_type": "stream",
     "text": [
      "2024-07-06T18:18:25.074105+0000 INFO user0001 successfully posted the status.\n"
     ]
    }
   ],
   "source": [
    "image_file = \"../infrastructure/mastodon-on-aws/architecture.png\"\n",
    "\n",
    "post_status(\n",
    "    login_user=\"user0001\",\n",
    "    status=\"Check out this image!\",\n",
    "    media_files=[image_file],\n",
    ")"
   ]
  },
  {
   "cell_type": "markdown",
   "metadata": {},
   "source": [
    "## Create a poll"
   ]
  },
  {
   "cell_type": "code",
   "execution_count": 13,
   "metadata": {},
   "outputs": [
    {
     "name": "stdout",
     "output_type": "stream",
     "text": [
      "2024-07-06T18:18:25.539466+0000 INFO user0001 successfully posted the status.\n"
     ]
    }
   ],
   "source": [
    "post_status(\n",
    "    login_user=\"user0001\",\n",
    "    status=\"What's your favorite color?\",\n",
    "    poll_options=[\"Red\", \"Blue\", \"Green\"],\n",
    "    poll_expires_in=86400,\n",
    ")"
   ]
  },
  {
   "cell_type": "markdown",
   "metadata": {},
   "source": [
    "## Get the public timeline\n",
    "\n",
    "Get the entire pubic timeline in reverse chronological order, up to `limit`."
   ]
  },
  {
   "cell_type": "code",
   "execution_count": 14,
   "metadata": {},
   "outputs": [
    {
     "name": "stdout",
     "output_type": "stream",
     "text": [
      "2024-07-06T18:18:25.754683+0000 INFO Retrieved 4 posts from the public timeline.\n",
      "----------------------------------------\n",
      "Post ID: 112740919246221212\n",
      "Created At: 2024-07-06 18:18:25.490000+00:00\n",
      "User: Bob (@user0001)\n",
      "Content: <p>What&#39;s your favorite color?</p>\n",
      "URL: https://social-sandbox.com/@user0001/112740919246221212\n",
      "Favourites: 0, Reblogs: 0\n",
      "----------------------------------------\n",
      "Post ID: 112740919216071645\n",
      "Created At: 2024-07-06 18:18:25.030000+00:00\n",
      "User: Bob (@user0001)\n",
      "Content: <p>Check out this image!</p>\n",
      "URL: https://social-sandbox.com/@user0001/112740919216071645\n",
      "Favourites: 0, Reblogs: 0\n",
      "----------------------------------------\n",
      "Post ID: 112740918971699133\n",
      "Created At: 2024-07-06 18:18:21.301000+00:00\n",
      "User:  (@user0002)\n",
      "Content: <p>Hello World, from user0002!</p>\n",
      "URL: https://social-sandbox.com/@user0002/112740918971699133\n",
      "Favourites: 0, Reblogs: 0\n",
      "----------------------------------------\n",
      "Post ID: 112740918942240147\n",
      "Created At: 2024-07-06 18:18:20.852000+00:00\n",
      "User: Bob (@user0001)\n",
      "Content: <p>Hello World, from user0001!</p>\n",
      "URL: https://social-sandbox.com/@user0001/112740918942240147\n",
      "Favourites: 0, Reblogs: 0\n",
      "----------------------------------------\n"
     ]
    }
   ],
   "source": [
    "from mastodon_sim.mastodon_ops import get_public_timeline, print_timeline\n",
    "\n",
    "timeline = get_public_timeline(limit=None)\n",
    "print_timeline(timeline)"
   ]
  },
  {
   "cell_type": "markdown",
   "metadata": {},
   "source": [
    "## Get own timeline\n",
    "\n",
    "Retrieve `user0001`'s timeline. Fetches the logged-in user's home timeline (i.e., followed users and self). Offers filtering options:\n",
    "- `all`: Default, shows all posts\n",
    "- `self`: Shows only the user's own posts\n",
    "- `others`: Shows only posts from followed users"
   ]
  },
  {
   "cell_type": "code",
   "execution_count": 15,
   "metadata": {},
   "outputs": [
    {
     "name": "stdout",
     "output_type": "stream",
     "text": [
      "2024-07-06T18:18:26.247090+0000 INFO user0001 retrieved 6 posts from their timeline (filter: all).\n",
      "2024-07-06T18:18:26.751966+0000 INFO user0001 retrieved 4 posts from their timeline (filter: self).\n",
      "2024-07-06T18:18:27.340102+0000 INFO user0001 retrieved 2 posts from their timeline (filter: others).\n",
      "----------------------------------------\n",
      "Post ID: 112740919001361894\n",
      "Created At: 2024-07-06 18:18:21.754000+00:00\n",
      "User:  (@user0002)\n",
      "Content: <p>Hello World, from user0002! This is an unlisted toot with a content warning.</p>\n",
      "URL: https://social-sandbox.com/@user0002/112740919001361894\n",
      "Favourites: 0, Reblogs: 0\n",
      "----------------------------------------\n",
      "Post ID: 112740918971699133\n",
      "Created At: 2024-07-06 18:18:21.301000+00:00\n",
      "User:  (@user0002)\n",
      "Content: <p>Hello World, from user0002!</p>\n",
      "URL: https://social-sandbox.com/@user0002/112740918971699133\n",
      "Favourites: 0, Reblogs: 0\n",
      "----------------------------------------\n"
     ]
    }
   ],
   "source": [
    "from mastodon_sim.mastodon_ops import get_own_timeline\n",
    "\n",
    "# Notice the retrieved count is different for each of these\n",
    "timeline = get_own_timeline(\"user0001\", filter_type=\"all\")\n",
    "timeline = get_own_timeline(\"user0001\", filter_type=\"self\")\n",
    "timeline = get_own_timeline(\"user0001\", filter_type=\"others\")\n",
    "\n",
    "# Print the timeline (in this case, all others following, but not self)\n",
    "print_timeline(timeline)"
   ]
  },
  {
   "cell_type": "markdown",
   "metadata": {},
   "source": [
    "## Read a user's timeline (non-global)\n",
    "\n",
    "From the perspective of `user0002`, read `user0001`'s timeline.\n",
    "\n",
    "**Accessible Information**:\n",
    "  - `user0002` can read `user0001`'s public and unlisted posts, as well as follower-only posts if `user0002` is a follower.\n",
    "  - Details available include post ID, creation date, username, display name, content, URL, favourites count, and reblogs count.\n",
    "\n",
    "**Restricted Information**:\n",
    "  - `user0002` cannot access private posts or direct messages.\n",
    "\n",
    "**Impact of Being Blocked**:\n",
    "  - If `user0001` has blocked `user0002`, `user0002` cannot retrieve any posts from `user0001`'s timeline.\n",
    "  - The function will return an empty list due to the block enforced by the Mastodon API."
   ]
  },
  {
   "cell_type": "code",
   "execution_count": 16,
   "metadata": {},
   "outputs": [
    {
     "name": "stdout",
     "output_type": "stream",
     "text": [
      "2024-07-06T18:18:27.888736+0000 INFO user0002 retrieved 4 posts from user0001's timeline.\n",
      "----------------------------------------\n",
      "Post ID: 112740919246221212\n",
      "Created At: 2024-07-06 18:18:25.490000+00:00\n",
      "User: Bob (@user0001)\n",
      "Content: <p>What&#39;s your favorite color?</p>\n",
      "URL: https://social-sandbox.com/@user0001/112740919246221212\n",
      "Favourites: 0, Reblogs: 0\n",
      "----------------------------------------\n",
      "Post ID: 112740919216071645\n",
      "Created At: 2024-07-06 18:18:25.030000+00:00\n",
      "User: Bob (@user0001)\n",
      "Content: <p>Check out this image!</p>\n",
      "URL: https://social-sandbox.com/@user0001/112740919216071645\n",
      "Favourites: 0, Reblogs: 0\n",
      "----------------------------------------\n",
      "Post ID: 112740919036347837\n",
      "Created At: 2024-07-06 18:18:22.290000+00:00\n",
      "User: Bob (@user0001)\n",
      "Content: <p><span class=\"h-card\" translate=\"no\"><a href=\"https://social-sandbox.com/@user0002\" class=\"u-url mention\">@<span>user0002</span></a></span> Hello, this is a direct message!</p>\n",
      "URL: https://social-sandbox.com/@user0001/112740919036347837\n",
      "Favourites: 0, Reblogs: 0\n",
      "----------------------------------------\n",
      "Post ID: 112740918942240147\n",
      "Created At: 2024-07-06 18:18:20.852000+00:00\n",
      "User: Bob (@user0001)\n",
      "Content: <p>Hello World, from user0001!</p>\n",
      "URL: https://social-sandbox.com/@user0001/112740918942240147\n",
      "Favourites: 0, Reblogs: 0\n",
      "----------------------------------------\n"
     ]
    }
   ],
   "source": [
    "from mastodon_sim.mastodon_ops import get_user_timeline\n",
    "\n",
    "timeline = get_user_timeline(login_user=\"user0002\", target_user=\"user0001\", limit=None)\n",
    "print_timeline(timeline)"
   ]
  },
  {
   "cell_type": "markdown",
   "metadata": {},
   "source": [
    "## Block / unblock a user\n",
    "\n",
    "Make `user0001` block or unblock `user0002`."
   ]
  },
  {
   "cell_type": "code",
   "execution_count": 17,
   "metadata": {},
   "outputs": [
    {
     "name": "stdout",
     "output_type": "stream",
     "text": [
      "2024-07-06T18:18:28.449592+0000 INFO user0001 has blocked user0002.\n",
      "2024-07-06T18:18:28.998589+0000 INFO user0002 retrieved 0 posts from user0001's timeline.\n",
      "2024-07-06T18:18:29.436498+0000 INFO user0001 has unblocked user0002.\n",
      "2024-07-06T18:18:30.081173+0000 INFO user0002 retrieved 4 posts from user0001's timeline.\n"
     ]
    }
   ],
   "source": [
    "from mastodon_sim.mastodon_ops import block_user, unblock_user\n",
    "\n",
    "# user001 blocks user002\n",
    "block_user(login_user=\"user0001\", target_user=\"user0002\")\n",
    "\n",
    "# user002 tries to read user001's timeline, but retrieves zero toots\n",
    "timeline = get_user_timeline(login_user=\"user0002\", target_user=\"user0001\")\n",
    "\n",
    "# user001 unblocks user002\n",
    "unblock_user(login_user=\"user0001\", target_user=\"user0002\")\n",
    "\n",
    "# user002 tries to read user001's timeline again, and retrieves the toots\n",
    "timeline = get_user_timeline(login_user=\"user0002\", target_user=\"user0001\")"
   ]
  },
  {
   "cell_type": "markdown",
   "metadata": {},
   "source": [
    "## Mute account (user)\n",
    "\n",
    "Make `user0001` mute and unmute `user0002`."
   ]
  },
  {
   "cell_type": "code",
   "execution_count": 18,
   "metadata": {},
   "outputs": [
    {
     "name": "stdout",
     "output_type": "stream",
     "text": [
      "2024-07-06T18:18:30.602919+0000 INFO Successfully muted account @user0002 (ID: 112739472155322330) indefinitely without notifications.\n",
      "2024-07-06T18:18:31.140378+0000 INFO Successfully unmuted account @user0002 (ID: 112739472155322330).\n"
     ]
    }
   ],
   "source": [
    "from mastodon_sim.mastodon_ops import mute_account, unmute_account\n",
    "\n",
    "mute_account(\n",
    "    login_user=\"user0001\",\n",
    "    mute_user=\"user0002\",\n",
    "    notifications=False,\n",
    "    duration=None,\n",
    ")\n",
    "\n",
    "unmute_account(\n",
    "    login_user=\"user0001\",\n",
    "    unmute_user=\"user0002\",\n",
    ")"
   ]
  },
  {
   "cell_type": "markdown",
   "metadata": {},
   "source": [
    "## Like (favorite) a toot\n",
    "\n",
    "Make `user0002` like `user0001`'s toot with ID `toot_id`."
   ]
  },
  {
   "cell_type": "code",
   "execution_count": 19,
   "metadata": {},
   "outputs": [
    {
     "name": "stdout",
     "output_type": "stream",
     "text": [
      "2024-07-06T18:18:31.690373+0000 INFO user0002 retrieved 4 posts from user0001's timeline.\n",
      "2024-07-06T18:18:32.103979+0000 INFO user0002 liked post 112740919246221212 from user0001.\n"
     ]
    }
   ],
   "source": [
    "from mastodon_sim.mastodon_ops import like_toot\n",
    "\n",
    "timeline = get_user_timeline(login_user=\"user0002\", target_user=\"user0001\")\n",
    "\n",
    "# Most recent toot is index 0 (reverse chronological order)\n",
    "most_recent_toot_id = timeline[0][\"id\"]\n",
    "\n",
    "like_toot(login_user=\"user0002\", target_user=\"user0001\", toot_id=most_recent_toot_id)"
   ]
  },
  {
   "cell_type": "markdown",
   "metadata": {},
   "source": [
    "## Boost (reblog) a toot\n",
    "\n",
    "Make `user0002` boost `user0001`'s toot with ID `toot_id`."
   ]
  },
  {
   "cell_type": "code",
   "execution_count": 20,
   "metadata": {},
   "outputs": [
    {
     "name": "stdout",
     "output_type": "stream",
     "text": [
      "2024-07-06T18:18:32.716844+0000 INFO user0002 retrieved 4 posts from user0001's timeline.\n",
      "2024-07-06T18:18:33.271910+0000 INFO user0002 boosted post 112740919246221212 from user0001.\n"
     ]
    }
   ],
   "source": [
    "from mastodon_sim.mastodon_ops import boost_toot\n",
    "\n",
    "timeline = get_user_timeline(login_user=\"user0002\", target_user=\"user0001\")\n",
    "most_recent_toot_id = timeline[0][\"id\"]\n",
    "\n",
    "boost_toot(login_user=\"user0002\", target_user=\"user0001\", toot_id=most_recent_toot_id)"
   ]
  },
  {
   "cell_type": "markdown",
   "metadata": {},
   "source": [
    "## Post a reply\n",
    "\n",
    "Make `user0002` reply to `user0001`'s post (a poll)."
   ]
  },
  {
   "cell_type": "code",
   "execution_count": 21,
   "metadata": {},
   "outputs": [
    {
     "name": "stdout",
     "output_type": "stream",
     "text": [
      "2024-07-06T18:18:33.897355+0000 INFO user0002 retrieved 4 posts from user0001's timeline.\n",
      "Last toot: <p>What&#39;s your favorite color?</p>\n",
      "2024-07-06T18:18:34.366935+0000 INFO user0002 successfully posted the status.\n"
     ]
    }
   ],
   "source": [
    "timeline = get_user_timeline(login_user=\"user0002\", target_user=\"user0001\")\n",
    "print(f\"Last toot: {timeline[0]['content']}\")\n",
    "most_recent_toot_id = timeline[0][\"id\"]\n",
    "\n",
    "post_status(\n",
    "    login_user=\"user0002\",\n",
    "    status=\"This is a great poll!\",\n",
    "    in_reply_to_id=most_recent_toot_id,\n",
    ")"
   ]
  },
  {
   "cell_type": "markdown",
   "metadata": {},
   "source": [
    "## Read notifications\n",
    "\n",
    "Read all notifications for `user0001` and clear them."
   ]
  },
  {
   "cell_type": "code",
   "execution_count": 22,
   "metadata": {},
   "outputs": [
    {
     "name": "stdout",
     "output_type": "stream",
     "text": [
      "2024-07-06T18:18:34.859605+0000 INFO Fetched 2 notifications for user user0001\n",
      "2024-07-06T18:18:34.905385+0000 INFO Cleared all 2 notifications for user user0001\n",
      "\n",
      "==================================================\n",
      "ID: 45\n",
      "Type: reblog\n",
      "Created at: 2024-07-06 18:18:33.279000+00:00\n",
      "From: @user0002 ()\n",
      "Reblogged your status: <p>What&#39;s your favorite color?</p>...\n",
      "\n",
      "==================================================\n",
      "ID: 44\n",
      "Type: favourite\n",
      "Created at: 2024-07-06 18:18:32.084000+00:00\n",
      "From: @user0002 ()\n",
      "Favourited your status: <p>What&#39;s your favorite color?</p>...\n",
      "\n",
      "Total notifications: 2\n"
     ]
    }
   ],
   "source": [
    "from mastodon_sim.mastodon_ops import print_notifications, read_notifications\n",
    "\n",
    "notifications = read_notifications(login_user=\"user0001\", clear=True, limit=None)\n",
    "print_notifications(notifications)"
   ]
  },
  {
   "cell_type": "markdown",
   "metadata": {},
   "source": [
    "## Delete post(s)\n",
    "\n",
    "Make `user0002` delete their last post (the reply to `user0001`'s poll)."
   ]
  },
  {
   "cell_type": "code",
   "execution_count": 23,
   "metadata": {},
   "outputs": [
    {
     "name": "stdout",
     "output_type": "stream",
     "text": [
      "2024-07-06T18:18:35.421786+0000 INFO user0002 retrieved 4 posts from their timeline (filter: all).\n",
      "2024-07-06T18:18:36.066037+0000 INFO Successfully deleted post with ID: 112740919824756697\n",
      "2024-07-06T18:18:36.067596+0000 INFO Deletion process completed. Attempted to delete 1 post(s).\n",
      "2024-07-06T18:18:36.497941+0000 INFO user0002 retrieved 3 posts from their timeline (filter: all).\n"
     ]
    }
   ],
   "source": [
    "from mastodon_sim.mastodon_ops import delete_posts\n",
    "\n",
    "# Check user0002's number of toots\n",
    "timeline = get_own_timeline(\"user0002\")\n",
    "\n",
    "delete_posts(\n",
    "    login_user=\"user0002\",\n",
    "    recent_count=1,\n",
    ")\n",
    "\n",
    "# Check user0002's number of toots again, should be 1 less\n",
    "timeline = get_own_timeline(\"user0002\")"
   ]
  },
  {
   "cell_type": "markdown",
   "metadata": {},
   "source": [
    "Delete a post by post ID."
   ]
  },
  {
   "cell_type": "code",
   "execution_count": 24,
   "metadata": {},
   "outputs": [
    {
     "name": "stdout",
     "output_type": "stream",
     "text": [
      "2024-07-06T18:18:36.985376+0000 INFO user0002 retrieved 3 posts from their timeline (filter: all).\n",
      "2024-07-06T18:18:37.459998+0000 INFO Successfully deleted post with ID: 112740919752120703\n",
      "2024-07-06T18:18:37.462428+0000 INFO Deletion process completed. Attempted to delete 1 post(s).\n",
      "2024-07-06T18:18:37.901185+0000 INFO user0002 retrieved 2 posts from their timeline (filter: all).\n"
     ]
    }
   ],
   "source": [
    "# Get user0002's first toot (and print the number of toots)\n",
    "timeline = get_own_timeline(\"user0002\")\n",
    "first_toot_id = timeline[0][\"id\"]\n",
    "\n",
    "delete_posts(\n",
    "    login_user=\"user0002\",\n",
    "    post_ids=[first_toot_id],\n",
    ")\n",
    "\n",
    "# Check user0002's number of toots again, should be 1 less\n",
    "timeline = get_own_timeline(\"user0002\")"
   ]
  },
  {
   "cell_type": "markdown",
   "metadata": {},
   "source": [
    "## Delete all posts\n",
    "\n",
    "Delete all posts for a list of users."
   ]
  },
  {
   "cell_type": "code",
   "execution_count": 25,
   "metadata": {},
   "outputs": [
    {
     "name": "stdout",
     "output_type": "stream",
     "text": [
      "2024-07-06T18:18:38.625179+0000 INFO Successfully deleted post with ID: 112740919246221212\n",
      "2024-07-06T18:18:38.704686+0000 INFO Successfully deleted post with ID: 112740919216071645\n",
      "2024-07-06T18:18:38.778005+0000 INFO Successfully deleted post with ID: 112740919036347837\n",
      "2024-07-06T18:18:38.851058+0000 INFO Successfully deleted post with ID: 112740918942240147\n",
      "2024-07-06T18:18:38.852879+0000 INFO Deletion process completed. Attempted to delete 4 post(s).\n",
      "2024-07-06T18:18:39.554991+0000 INFO Successfully deleted post with ID: 112740919001361894\n",
      "2024-07-06T18:18:39.638949+0000 INFO Successfully deleted post with ID: 112740918971699133\n",
      "2024-07-06T18:18:39.640775+0000 INFO Deletion process completed. Attempted to delete 2 post(s).\n"
     ]
    }
   ],
   "source": [
    "for user in [\"user0001\", \"user0002\"]:\n",
    "    delete_posts(login_user=user, delete_all=True, skip_confirm=True)"
   ]
  },
  {
   "cell_type": "markdown",
   "metadata": {},
   "source": [
    "## Reset all users\n",
    "\n",
    "Delete user's posts, likes, boosts, and reset display name and bio."
   ]
  },
  {
   "cell_type": "code",
   "execution_count": 26,
   "metadata": {},
   "outputs": [
    {
     "name": "stdout",
     "output_type": "stream",
     "text": [
      "2024-07-06T18:18:40.017806+0000 INFO Deleting all posts for user user0001...\n",
      "2024-07-06T18:18:40.498962+0000 ERROR No posts specified for deletion.\n",
      "2024-07-06T18:18:40.502390+0000 INFO Removing favourites and boosts for user user0001...\n",
      "2024-07-06T18:18:40.544297+0000 INFO Removed 0 favourites.\n",
      "2024-07-06T18:18:40.632880+0000 INFO Removed 0 boosts.\n",
      "2024-07-06T18:18:40.635576+0000 INFO Resetting profile information for user user0001...\n",
      "2024-07-06T18:18:40.712905+0000 INFO Profile information reset successfully.\n",
      "2024-07-06T18:18:40.715117+0000 INFO Comprehensive reset process completed for user: user0001\n",
      "2024-07-06T18:18:41.120435+0000 INFO Deleting all posts for user user0002...\n",
      "2024-07-06T18:18:41.673931+0000 ERROR No posts specified for deletion.\n",
      "2024-07-06T18:18:41.675506+0000 INFO Removing favourites and boosts for user user0002...\n",
      "2024-07-06T18:18:41.711397+0000 INFO Removed 0 favourites.\n",
      "2024-07-06T18:18:41.794846+0000 INFO Removed 0 boosts.\n",
      "2024-07-06T18:18:41.795656+0000 INFO Resetting profile information for user user0002...\n",
      "2024-07-06T18:18:41.845406+0000 INFO Profile information reset successfully.\n",
      "2024-07-06T18:18:41.846178+0000 INFO Comprehensive reset process completed for user: user0002\n",
      "2024-07-06T18:18:42.056495+0000 INFO Retrieved 0 posts from the public timeline.\n"
     ]
    }
   ],
   "source": [
    "from mastodon_sim.mastodon_ops import reset_user\n",
    "\n",
    "for user in [\"user0001\", \"user0002\"]:\n",
    "    reset_user(user, skip_confirm=True)\n",
    "\n",
    "assert not len(get_public_timeline(limit=None)), \"Public timeline should be empty now\""
   ]
  },
  {
   "cell_type": "markdown",
   "metadata": {},
   "source": [
    "And that's it so far!"
   ]
  },
  {
   "cell_type": "markdown",
   "metadata": {},
   "source": [
    "## [TODO] \n",
    "\n",
    "### Operations to add:\n",
    "\n",
    "- favourites\n",
    "- bookmarks\n",
    "- timeline_hashtag\n",
    "- conversations\n",
    "- trending_tags\n",
    "- admin_account_moderate\n",
    "- status_update\n",
    "\n",
    "### Utilities to add:\n",
    "\n",
    "- Create and plot a graph of user relationships (follow, block, mute)\n",
    "\n",
    "https://mastodonpy.readthedocs.io/en/stable/index.html"
   ]
  }
 ],
 "metadata": {
  "kernelspec": {
   "display_name": "mastodon-sim-env",
   "language": "python",
   "name": "python3"
  },
  "language_info": {
   "codemirror_mode": {
    "name": "ipython",
    "version": 3
   },
   "file_extension": ".py",
   "mimetype": "text/x-python",
   "name": "python",
   "nbconvert_exporter": "python",
   "pygments_lexer": "ipython3",
   "version": "3.11.9"
  }
 },
 "nbformat": 4,
 "nbformat_minor": 2
}
