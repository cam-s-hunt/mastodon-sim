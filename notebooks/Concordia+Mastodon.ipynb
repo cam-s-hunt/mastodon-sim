{
 "cells": [
  {
   "cell_type": "markdown",
   "metadata": {},
   "source": [
    "# Concordia <> Mastodon Example"
   ]
  },
  {
   "cell_type": "markdown",
   "metadata": {},
   "source": [
    "# Introduction\n",
    "\n",
    "**Purpose of the Simulation**\n",
    "\n",
    "This notebook demonstrates a generative agent simulation of a Mastodon instance using the Concordia framework. \n",
    "The simulation models user behavior on a local Mastodon server, showcasing how AI agents interact in a \n",
    "decentralized social media environment."
   ]
  },
  {
   "cell_type": "markdown",
   "metadata": {},
   "source": [
    "## Setup and imports\n",
    "\n",
    "All of the necessary dependencies should be installed in the environment prior to running this notebook. If not, install them using poetry:\n",
    "\n",
    "```bash\n",
    "poetry install\n",
    "```\n",
    "\n",
    "This will include installing the Concordia package from a fork that includes a branch with a fix for a bug in the calendar/phone example.\n",
    "\n",
    "Alternatively, you may install the library in editable mode so that we can make changes to the code if necessary:\n",
    "\n",
    "```bash\n",
    "git clone https://github.com/austinmw/concordia.git\n",
    "cd concordia\n",
    "git checkout fix-calendar-example\n",
    "pip install -e . --config-settings editable_mode=compat\n",
    "```"
   ]
  },
  {
   "cell_type": "code",
   "execution_count": null,
   "metadata": {},
   "outputs": [],
   "source": [
    "%load_ext autoreload\n",
    "%autoreload 2\n",
    "\n",
    "import concurrent.futures\n",
    "import datetime\n",
    "import os\n",
    "import random\n",
    "import warnings\n",
    "\n",
    "with warnings.catch_warnings():\n",
    "    warnings.filterwarnings(\"ignore\")\n",
    "    import sentence_transformers\n",
    "\n",
    "from concordia import components as generic_components\n",
    "from concordia.agents import basic_agent\n",
    "from concordia.associative_memory import (\n",
    "    associative_memory,\n",
    "    blank_memories,\n",
    "    formative_memories,\n",
    "    importance_function,\n",
    ")\n",
    "from concordia.clocks import game_clock\n",
    "from concordia.components import agent as components\n",
    "from concordia.components import game_master as gm_components\n",
    "from concordia.environment import game_master\n",
    "from concordia.language_model import amazon_bedrock_model, gpt_model\n",
    "from concordia.metrics import (  # noqa: F401\n",
    "    common_sense_morality,\n",
    "    goal_achievement,\n",
    "    opinion_of_others,\n",
    ")\n",
    "from concordia.utils import html as html_lib\n",
    "from concordia.utils import measurements as measurements_lib\n",
    "from IPython import display\n",
    "\n",
    "from mastodon_sim.concordia import apps, triggering\n",
    "from mastodon_sim.mastodon_ops import check_env, get_public_timeline, print_timeline, reset_users\n",
    "from mastodon_sim.mastodon_utils import get_users_from_env"
   ]
  },
  {
   "cell_type": "markdown",
   "metadata": {},
   "source": [
    "## Check environment\n",
    "Check for a `.env` file with the nessesary environment variables. You should see an output similar to this if successful:\n",
    "\n",
    "```log\n",
    "2024-07-17T11:38:17.213066-0400 INFO Successfully loaded .env file.\n",
    "2024-07-17T11:38:17.214151-0400 INFO API_BASE_URL: https://social-sandbox.com\n",
    "2024-07-17T11:38:17.214581-0400 INFO EMAIL_PREFIX: austinmw89\n",
    "2024-07-17T11:38:17.215056-0400 INFO MASTODON_CLIENT_ID: N*****************************************E\n",
    "2024-07-17T11:38:17.215477-0400 INFO MASTODON_CLIENT_SECRET: b*****************************************s\n",
    "2024-07-17T11:38:17.215877-0400 INFO USER0005_PASSWORD: a******************************a\n",
    "2024-07-17T11:38:17.216202-0400 INFO USER0002_PASSWORD: 8******************************b\n",
    "2024-07-17T11:38:17.216655-0400 INFO USER0001_PASSWORD: 9******************************5\n",
    "2024-07-17T11:38:17.217020-0400 INFO USER0004_PASSWORD: 7******************************e\n",
    "2024-07-17T11:38:17.217323-0400 INFO USER0003_PASSWORD: f******************************6\n",
    "```"
   ]
  },
  {
   "cell_type": "code",
   "execution_count": null,
   "metadata": {},
   "outputs": [],
   "source": [
    "check_env()"
   ]
  },
  {
   "cell_type": "markdown",
   "metadata": {},
   "source": [
    "## Clear Mastodon server\n",
    "Deletes from https://social-sandbox.com all posts, follows, likes, etc. from all users in the .env file."
   ]
  },
  {
   "cell_type": "code",
   "execution_count": null,
   "metadata": {},
   "outputs": [],
   "source": [
    "# Get all users from .env file\n",
    "users = get_users_from_env()\n",
    "\n",
    "# Reset all users\n",
    "reset_users(users, skip_confirm=True, parallel=True)\n",
    "\n",
    "# Check that the public timeline is now empty\n",
    "assert not len(get_public_timeline(limit=None))"
   ]
  },
  {
   "cell_type": "markdown",
   "metadata": {},
   "source": [
    "## Set LLM and embedding model"
   ]
  },
  {
   "cell_type": "code",
   "execution_count": null,
   "metadata": {},
   "outputs": [],
   "source": [
    "# Language Model setup\n",
    "GPT_API_KEY = os.getenv(\"OPENAI_API_KEY\")\n",
    "GPT_MODEL_NAME = \"gpt-4o\"\n",
    "\n",
    "if not GPT_API_KEY and \"sonnet\" not in GPT_MODEL_NAME.lower():\n",
    "  raise ValueError(\"GPT_API_KEY is required.\")\n",
    "\n",
    "if \"sonnet\" in GPT_MODEL_NAME.lower():\n",
    "  model = amazon_bedrock_model(\n",
    "    # TODO: replace with Sonnet V3.5 (requested access)\n",
    "    model_id=\"anthropic.claude-3-sonnet-20240229-v1:0\"\n",
    "  )\n",
    "else:\n",
    "  model = gpt_model.GptLanguageModel(\n",
    "      api_key=GPT_API_KEY, model_name=GPT_MODEL_NAME\n",
    "  )"
   ]
  },
  {
   "cell_type": "code",
   "execution_count": null,
   "metadata": {},
   "outputs": [],
   "source": [
    "# Setup sentence encoder\n",
    "st_model = sentence_transformers.SentenceTransformer(\n",
    "    \"sentence-transformers/all-mpnet-base-v2\"\n",
    ")\n",
    "\n",
    "embedder = lambda x: st_model.encode(x, show_progress_bar=False)  # noqa: E731"
   ]
  },
  {
   "cell_type": "markdown",
   "metadata": {},
   "source": [
    "## Configuring the generic knowledge of the players and the game master (GM)"
   ]
  },
  {
   "cell_type": "code",
   "execution_count": null,
   "metadata": {},
   "outputs": [],
   "source": [
    "INSTANCE_NAME = \"riverbend.social\"\n",
    "\n",
    "shared_memories = [\n",
    "    # Backstory\n",
    "    f\"You are a user on {INSTANCE_NAME}, a Mastodon instance created for the residents of Riverbend.\",\n",
    "    \"Riverbend is a small, picturesque town known for its strong community spirit and love for nature.\",\n",
    "    f\"{INSTANCE_NAME} was founded by the town's tech-savvy mayor to encourage local online engagement.\",\n",
    "    \"The instance has been active for about a year and has become integral to Riverbend's community life.\",\n",
    "    \"Many local businesses, community groups, and residents are active on the platform.\",\n",
    "    # Riverbend-specific details\n",
    "    \"Riverbend has a beautiful river running through it, which is central to the town's identity and economy.\",\n",
    "    \"The town is facing some environmental challenges due to climate change, which is a frequent topic of discussion.\",\n",
    "    f\"There's a popular hashtag #RiverbendDaily on {INSTANCE_NAME} where residents share local news and events.\",\n",
    "    f\"{INSTANCE_NAME} has monthly online town halls where residents can discuss local issues.\",\n",
    "    \"The mayor regularly posts updates about town developments and initiatives on the platform.\",\n",
    "    # Basic Mastodon knowledge\n",
    "    \"Mastodon is a decentralized social network, different from centralized platforms like Twitter or Facebook.\",\n",
    "    \"To share content on Mastodon, you write a 'toot' (equivalent to a tweet or post).\",\n",
    "    \"Toots can be up to 500 characters long, allowing for more detailed expressions than some other platforms.\",\n",
    "    # Timeline and Visibility\n",
    "    \"Your home timeline shows toots from people you follow and boosted (reblogged) content.\",\n",
    "    \"The local timeline displays public toots from users on your instance.\",\n",
    "    \"The timeline is not algorithmically curated, and toots appear in reverse chronological order.\",\n",
    "    # Interactions\n",
    "    \"You can reply to toots, creating threaded conversations.\",\n",
    "    \"Favorite (like) toots to show appreciation or save them for later.\",\n",
    "    \"Boost (reblog) toots to share them with your followers.\",\n",
    "    \"You can mention other users in your toots using their @username.\",\n",
    "    # Following and Followers\n",
    "    \"Follow other users to see their public and unlisted toots in your home timeline.\",\n",
    "    \"You can unfollow users if you no longer wish to see their content.\",\n",
    "    \"Users don't need to follow each other mutually; it can be one-sided.\",\n",
    "    # Discovery and Features\n",
    "    \"Use hashtags to categorize your toots and make them more discoverable.\",\n",
    "    \"The explore page shows trending hashtags and featured toots.\",\n",
    "    \"Your profile can be customized with a display name and bio.\",\n",
    "    # Privacy and Safety\n",
    "    \"You can block users to prevent them from seeing your content or interacting with you.\",\n",
    "    \"Unblocking a user reverses the effects of blocking.\",\n",
    "    f\"{INSTANCE_NAME} has a strict policy against misinformation and encourages fact-checking.\",\n",
    "    # Community Guidelines\n",
    "    f\"As a user of {INSTANCE_NAME}, you're expected to engage respectfully and contribute positively to the community.\",\n",
    "    \"Discussions about local environmental issues, community events, and town developments are encouraged.\",\n",
    "    \"While debating is welcome, personal attacks and harassment are not tolerated on the platform.\",\n",
    "    # Realistic User Behavior\n",
    "    \"Despite community guidelines, users sometimes engage in heated arguments, especially on controversial topics.\",\n",
    "    \"Some users tend to share unverified information or sensationalized news, particularly during local emergencies or elections.\",\n",
    "    \"Cliques often form among users with similar interests or viewpoints, sometimes leading to echo chambers.\",\n",
    "    \"While many users are supportive, instances of trolling or targeted harassment occasionally occur.\",\n",
    "    \"Some users frequently post about personal matters or overshare details about their daily lives.\",\n",
    "    \"Local businesses sometimes use the platform for excessive self-promotion, which can annoy other users.\",\n",
    "    \"During major local events or crises, the instance can become flooded with repetitive information and speculation.\",\n",
    "    \"A few users have multiple accounts, sometimes using alternate personas to engage differently with the community.\",\n",
    "    \"Despite the longer character limit, many users still prefer short, quippy posts over more thoughtful, lengthy discussions.\",\n",
    "    \"Some users tend to boost and interact mainly with popular or influential accounts, seeking to increase their own visibility.\",\n",
    "]"
   ]
  },
  {
   "cell_type": "code",
   "execution_count": null,
   "metadata": {},
   "outputs": [],
   "source": [
    "# The generic context will be used for the NPC context. It reflects general\n",
    "# knowledge and is possessed by all characters.\n",
    "shared_context = model.sample_text(\n",
    "    \"Summarize the following passage in a concise and insightful fashion:\\n\"\n",
    "    + \"\\n\".join(shared_memories)\n",
    "    + \"\\n\"\n",
    "    + \"Summary:\",\n",
    "    max_tokens=512,\n",
    ")\n",
    "print(shared_context)\n",
    "importance_model = importance_function.ConstantImportanceModel()\n",
    "importance_model_gm = importance_function.ConstantImportanceModel()"
   ]
  },
  {
   "cell_type": "code",
   "execution_count": null,
   "metadata": {},
   "outputs": [],
   "source": [
    "# Make the clock\n",
    "SETUP_TIME = datetime.datetime(year=2024, month=9, day=1, hour=8)  # noqa: DTZ001\n",
    "\n",
    "START_TIME = datetime.datetime(year=2024, month=10, day=1, hour=8)  # noqa: DTZ001\n",
    "\n",
    "clock = game_clock.MultiIntervalClock(\n",
    "    start=SETUP_TIME,\n",
    "    step_sizes=[datetime.timedelta(minutes=15), datetime.timedelta(seconds=10)]\n",
    ")"
   ]
  },
  {
   "cell_type": "markdown",
   "metadata": {},
   "source": [
    "## Functions to build the players"
   ]
  },
  {
   "cell_type": "code",
   "execution_count": null,
   "metadata": {},
   "outputs": [],
   "source": [
    "blank_memory_factory = blank_memories.MemoryFactory(\n",
    "    model=model,\n",
    "    embedder=embedder,\n",
    "    importance=importance_model.importance,\n",
    "    clock_now=clock.now,\n",
    ")\n",
    "\n",
    "formative_memory_factory = formative_memories.FormativeMemoryFactory(\n",
    "    model=model,\n",
    "    shared_memories=shared_memories,\n",
    "    blank_memory_factory_call=blank_memory_factory.make_blank_memory,\n",
    ")\n",
    "\n",
    "# All players get the same `measurements` object.\n",
    "measurements = measurements_lib.Measurements()"
   ]
  },
  {
   "cell_type": "code",
   "execution_count": null,
   "metadata": {},
   "outputs": [],
   "source": [
    "def build_agent(agent_config, measurements: measurements_lib.Measurements) -> tuple:\n",
    "    \"\"\"Build an agent based on the given configuration.\"\"\"\n",
    "    mem = formative_memory_factory.make_memories(agent_config)\n",
    "\n",
    "    time = generic_components.report_function.ReportFunction(\n",
    "        name=\"Current time\",\n",
    "        function=clock.current_time_interval_str,\n",
    "    )\n",
    "\n",
    "    somatic_state = components.somatic_state.SomaticState(\n",
    "        model, mem, agent_config.name, clock.now\n",
    "    )\n",
    "    identity = components.identity.SimIdentity(\n",
    "        model=model,\n",
    "        memory=mem,\n",
    "        agent_name=agent_config.name,\n",
    "        clock_now=clock.now,\n",
    "    )\n",
    "    goal_component = components.constant.ConstantComponent(state=agent_config.goal)\n",
    "    plan = components.plan.SimPlan(\n",
    "        model=model,\n",
    "        memory=mem,\n",
    "        agent_name=agent_config.name,\n",
    "        clock_now=clock.now,\n",
    "        components=[identity],\n",
    "        goal=goal_component,\n",
    "        verbose=False,\n",
    "    )\n",
    "    current_obs = components.observation.Observation(\n",
    "        agent_name=agent_config.name,\n",
    "        clock_now=clock.now,\n",
    "        memory=mem,\n",
    "        timeframe=clock.get_step_size(),\n",
    "        component_name=\"current observations\",\n",
    "    )\n",
    "    summary_obs = components.observation.ObservationSummary(\n",
    "        agent_name=agent_config.name,\n",
    "        model=model,\n",
    "        clock_now=clock.now,\n",
    "        memory=mem,\n",
    "        timeframe_delta_from=datetime.timedelta(hours=4),\n",
    "        timeframe_delta_until=datetime.timedelta(minutes=15),\n",
    "        components=[identity],\n",
    "        component_name=\"summary of observations\",\n",
    "    )\n",
    "    # goal_metric = goal_achievement.GoalAchievementMetric(\n",
    "    #     model=model,\n",
    "    #     player_name=agent_config.name,\n",
    "    #     player_goal=agent_config.goal,\n",
    "    #     clock=clock,\n",
    "    #     name=\"Goal Achievement\",\n",
    "    #     measurements=measurements,\n",
    "    #     channel=\"goal_achievement\",\n",
    "    #     verbose=False,\n",
    "    # )\n",
    "    # morality_metric = common_sense_morality.CommonSenseMoralityMetric(\n",
    "    #     model=model,\n",
    "    #     player_name=agent_config.name,\n",
    "    #     clock=clock,\n",
    "    #     name=\"Morality\",\n",
    "    #     verbose=False,\n",
    "    #     measurements=measurements,\n",
    "    #     channel=\"common_sense_morality\",\n",
    "    # )\n",
    "\n",
    "    agent = basic_agent.BasicAgent(\n",
    "        model=model,\n",
    "        agent_name=agent_config.name,\n",
    "        clock=clock,\n",
    "        verbose=True,\n",
    "        components=[\n",
    "            identity,\n",
    "            plan,\n",
    "            somatic_state,\n",
    "            summary_obs,\n",
    "            current_obs,\n",
    "            time,\n",
    "            # goal_metric,\n",
    "            # morality_metric,\n",
    "        ],\n",
    "    )\n",
    "\n",
    "    # reputation_metric = opinion_of_others.OpinionOfOthersMetric(\n",
    "    #     model=model,\n",
    "    #     player_name=agent_config.name,\n",
    "    #     player_names=player_names,\n",
    "    #     context_fn=agent.state,\n",
    "    #     clock=clock,\n",
    "    #     name=\"Opinion\",\n",
    "    #     verbose=False,\n",
    "    #     measurements=measurements,\n",
    "    #     channel=\"opinion_of_others\",\n",
    "    #     question=\"What is {opining_player}'s opinion of {of_player}?\",\n",
    "    # )\n",
    "    # agent.add_component(reputation_metric)\n",
    "\n",
    "    return agent, mem"
   ]
  },
  {
   "cell_type": "markdown",
   "metadata": {},
   "source": [
    "## Configure and build the players"
   ]
  },
  {
   "cell_type": "code",
   "execution_count": null,
   "metadata": {},
   "outputs": [],
   "source": [
    "NUM_PLAYERS = 2\n",
    "\n",
    "def make_random_big_five() -> str:\n",
    "    \"\"\"Generate a random Big Five personality trait score.\"\"\"\n",
    "    return str({\n",
    "        \"extraversion\": random.randint(1, 10),\n",
    "        \"neuroticism\": random.randint(1, 10),\n",
    "        \"openness\": random.randint(1, 10),\n",
    "        \"conscientiousness\": random.randint(1, 10),\n",
    "        \"agreeableness\": random.randint(1, 10),\n",
    "    })\n",
    "\n",
    "\n",
    "scenario_premise = [\n",
    "    # (\n",
    "    #     \"Alice, Bob, Charlie and Dorothy are at the Sundrop Saloon. There \"\n",
    "    #     \"is a snow storm and they have to wait it out inside.\"\n",
    "    # )\n",
    "    (\n",
    "        \"It's early October in Riverbend, and the town is buzzing with activity .\"\n",
    "        \"The local government has just announced a new initiative to combat the effects of climate change on the river. \"\n",
    "         \"Alice, an environmental activist, and Bob, a small business owner, are both active members of the Riverbend.social Mastodon instance. \"\n",
    "         \"As they go about their daily routines, they use the platform to stay connected, share updates, and engage with the community on this pressing local issue.\"\n",
    "    )\n",
    "]\n",
    "\n",
    "player_configs = [\n",
    "    formative_memories.AgentConfig(\n",
    "        name=\"Alice\",\n",
    "        gender=\"female\",\n",
    "        #goal=\"Have fun interacting on social media.\",\n",
    "        goal=\"Balance work responsibilities with community engagement on Riverbend.social, aiming to organize a local environmental cleanup event.\",\n",
    "        context=f\"{shared_context}\\nAlice grew up in Riverbend.\",\n",
    "        traits=make_random_big_five()\n",
    "    ),\n",
    "    formative_memories.AgentConfig(\n",
    "        name=\"Bob\",\n",
    "        gender=\"male\",\n",
    "        #goal=\"Have fun interacting on social media.\",\n",
    "        goal=\"Promote my small business on Riverbend.social while staying informed about local issues and participating in community discussions.\",\n",
    "        context=f\"{shared_context}\\nBob grew up in Riverbend.\",\n",
    "        traits=make_random_big_five()\n",
    "    ),\n",
    "]"
   ]
  },
  {
   "cell_type": "code",
   "execution_count": null,
   "metadata": {},
   "outputs": [],
   "source": [
    "# Build the agents\n",
    "from functools import partial\n",
    "\n",
    "player_configs = player_configs[:NUM_PLAYERS]\n",
    "player_goals = {\n",
    "    player_config.name: player_config.goal for player_config in player_configs}\n",
    "players = []\n",
    "memories = {}\n",
    "\n",
    "build_agent_with_arg = partial(build_agent, measurements=measurements)\n",
    "\n",
    "with concurrent.futures.ThreadPoolExecutor(max_workers=NUM_PLAYERS) as pool:\n",
    "    for agent, mem in pool.map(build_agent_with_arg, player_configs):\n",
    "        players.append(agent)\n",
    "        memories[agent.name] = mem"
   ]
  },
  {
   "cell_type": "markdown",
   "metadata": {},
   "source": [
    "## Build the GM"
   ]
  },
  {
   "cell_type": "code",
   "execution_count": null,
   "metadata": {},
   "outputs": [],
   "source": [
    "game_master_memory = associative_memory.AssociativeMemory(\n",
    "    embedder, importance_model_gm.importance, clock=clock.now)"
   ]
  },
  {
   "cell_type": "code",
   "execution_count": null,
   "metadata": {},
   "outputs": [],
   "source": [
    "# Add some memories to the game master\n",
    "for player in players:\n",
    "  game_master_memory.add(f\"{player.name} is at their private home.\")"
   ]
  },
  {
   "cell_type": "code",
   "execution_count": null,
   "metadata": {},
   "outputs": [],
   "source": [
    "# Create components and externalities for the game master\n",
    "citizen_names = [player.name for player in players]\n",
    "player_names = [player.name for player in players]\n",
    "\n",
    "facts_on_village = components.constant.ConstantComponent(\" \".join(shared_memories), \"General knowledge of Riverbend\")\n",
    "player_status = gm_components.player_status.PlayerStatus(clock.now, model, game_master_memory, player_names)\n",
    "\n",
    "relevant_events = gm_components.relevant_events.RelevantEvents(clock.now, model, game_master_memory)\n",
    "time_display = gm_components.time_display.TimeDisplay(clock)\n",
    "\n",
    "direct_effect_externality = gm_components.direct_effect.DirectEffect(\n",
    "    players, memory=game_master_memory, model=model, clock_now=clock.now, verbose=False, components=[player_status]\n",
    ")"
   ]
  },
  {
   "cell_type": "code",
   "execution_count": null,
   "metadata": {},
   "outputs": [],
   "source": [
    "# Create apps and provide them to the phones, assigning 1 phone to each player\n",
    "calendar_app = apps.ToyCalendar()\n",
    "mastodon_app = apps.MastodonSocialNetworkApp()\n",
    "\n",
    "phones = [\n",
    "    apps.Phone(\"Alice\", apps=[calendar_app, mastodon_app]),\n",
    "    apps.Phone(\"Bob\", apps=[calendar_app, mastodon_app])\n",
    "]"
   ]
  },
  {
   "cell_type": "code",
   "execution_count": null,
   "metadata": {},
   "outputs": [],
   "source": [
    "# Update username for each person (since this is differnt from their name)\n",
    "user_mapping = {\n",
    "    \"Bob\": \"user0001\",\n",
    "    \"Alice\": \"user0002\",\n",
    "}\n",
    "mastodon_app.set_user_mapping(user_mapping)"
   ]
  },
  {
   "cell_type": "code",
   "execution_count": null,
   "metadata": {},
   "outputs": [],
   "source": [
    "# Seed follower relationships (simple all-to-all, for now)\n",
    "for follower in user_mapping:\n",
    "    for followee in user_mapping:\n",
    "        if follower != followee:\n",
    "            mastodon_app.follow_user(follower, followee)"
   ]
  },
  {
   "cell_type": "code",
   "execution_count": null,
   "metadata": {},
   "outputs": [],
   "source": [
    "# Update Mastodon display name for each person\n",
    "for name in user_mapping:\n",
    "    mastodon_app.update_profile(name, display_name=name, bio=\"\")"
   ]
  },
  {
   "cell_type": "code",
   "execution_count": null,
   "metadata": {},
   "outputs": [],
   "source": [
    "# Create component to trigger PhoneGameMaster\n",
    "phone_triggering = triggering.SceneTriggeringComponent(\n",
    "    players,\n",
    "    phones,\n",
    "    model,\n",
    "    memory=game_master_memory,\n",
    "    clock=clock,\n",
    "    memory_factory=blank_memory_factory,\n",
    ")"
   ]
  },
  {
   "cell_type": "code",
   "execution_count": null,
   "metadata": {},
   "outputs": [],
   "source": [
    "# Create the game master object\n",
    "env = game_master.GameMaster(\n",
    "    model=model,\n",
    "    memory=game_master_memory,\n",
    "    clock=clock,\n",
    "    players=players,\n",
    "    components=[\n",
    "        facts_on_village,\n",
    "        player_status,\n",
    "        direct_effect_externality,\n",
    "        relevant_events,\n",
    "        time_display,\n",
    "        phone_triggering,\n",
    "    ],\n",
    "    randomise_initiative=True,\n",
    "    player_observes_event=False,\n",
    "    verbose=True,\n",
    ")"
   ]
  },
  {
   "cell_type": "markdown",
   "metadata": {},
   "source": [
    "## The RUN"
   ]
  },
  {
   "cell_type": "code",
   "execution_count": null,
   "metadata": {},
   "outputs": [],
   "source": [
    "clock.set(START_TIME)"
   ]
  },
  {
   "cell_type": "code",
   "execution_count": null,
   "metadata": {},
   "outputs": [],
   "source": [
    "for player in players:\n",
    "  player.observe( f\"{player.name} is at home, they have just woken up.\")\n",
    "  player.observe( f\"{player.name} remembers they need to update their Mastodon bio!\")"
   ]
  },
  {
   "cell_type": "code",
   "execution_count": null,
   "metadata": {},
   "outputs": [],
   "source": [
    "# @title Expect about 2-3 minutes per step.\n",
    "episode_length = 5\n",
    "for _ in range(episode_length):\n",
    "  env.step()"
   ]
  },
  {
   "cell_type": "markdown",
   "metadata": {},
   "source": [
    "## Summary and analysis of the episode"
   ]
  },
  {
   "cell_type": "code",
   "execution_count": null,
   "metadata": {},
   "outputs": [],
   "source": [
    "# @title Summarize the entire story\n",
    "all_gm_memories = env._memory.retrieve_recent(k=10000, add_time=True)\n",
    "\n",
    "detailed_story = \"\\n\".join(all_gm_memories)\n",
    "print(\"len(detailed_story): \", len(detailed_story))\n",
    "# print(detailed_story)\n",
    "\n",
    "episode_summary = model.sample_text(\n",
    "    f\"Sequence of events:\\n{detailed_story}\"\n",
    "    \"\\nNarratively summarize the above temporally ordered \"\n",
    "    \"sequence of events. Write it as a news report. Summary:\\n\",\n",
    "     max_tokens=3500,\n",
    "     terminators=(),\n",
    ")\n",
    "print(episode_summary)"
   ]
  },
  {
   "cell_type": "code",
   "execution_count": null,
   "metadata": {},
   "outputs": [],
   "source": [
    "# Summarise the perspective of each player\n",
    "player_logs = []\n",
    "player_log_names = []\n",
    "for player in players:\n",
    "  name = player.name\n",
    "  detailed_story = \"\\n\".join(memories[player.name].retrieve_recent(\n",
    "      k=1000, add_time=True))\n",
    "  summary = \"\"\n",
    "  summary = model.sample_text(\n",
    "      f\"Sequence of events that happened to {name}:\\n{detailed_story}\"\n",
    "      \"\\nWrite a short story that summarises these events.\\n\",\n",
    "       max_tokens=3500,\n",
    "       terminators=()\n",
    ")\n",
    "\n",
    "  all_player_mem = memories[player.name].retrieve_recent(k=1000, add_time=True)\n",
    "  all_player_mem = [\"Summary:\", summary, \"Memories:\", *all_player_mem]\n",
    "  player_html = html_lib.PythonObjectToHTMLConverter(all_player_mem).convert()\n",
    "  player_logs.append(player_html)\n",
    "  player_log_names.append(f\"{name}\")"
   ]
  },
  {
   "cell_type": "markdown",
   "metadata": {},
   "source": [
    "## Build and display HTML log of the experiment"
   ]
  },
  {
   "cell_type": "code",
   "execution_count": null,
   "metadata": {},
   "outputs": [],
   "source": [
    "history_sources = [env, direct_effect_externality]\n",
    "histories_html = [html_lib.PythonObjectToHTMLConverter(history.get_history()).convert() for history in history_sources]\n",
    "histories_names = [history.name for history in history_sources]"
   ]
  },
  {
   "cell_type": "code",
   "execution_count": null,
   "metadata": {},
   "outputs": [],
   "source": [
    "gm_mem_html = html_lib.PythonObjectToHTMLConverter(all_gm_memories).convert()\n",
    "\n",
    "tabbed_html = html_lib.combine_html_pages(\n",
    "    [*histories_html, gm_mem_html, *player_logs],\n",
    "    [*histories_names, \"GM\", *player_log_names],\n",
    "    summary=episode_summary,\n",
    "    title=\"Mastodon experiment\",\n",
    ")\n",
    "\n",
    "tabbed_html = html_lib.finalise_html(tabbed_html)"
   ]
  },
  {
   "cell_type": "code",
   "execution_count": null,
   "metadata": {},
   "outputs": [],
   "source": [
    "display.HTML(tabbed_html)"
   ]
  },
  {
   "cell_type": "markdown",
   "metadata": {},
   "source": [
    "## Interact with a specific player"
   ]
  },
  {
   "cell_type": "code",
   "execution_count": null,
   "metadata": {},
   "outputs": [],
   "source": [
    "sim_to_interact = \"Alice\"\n",
    "user_identity = \"a close friend\"\n",
    "interaction_premise = f\"{sim_to_interact} is talking to {user_identity}\\n\"\n",
    "\n",
    "player_names = [player.name for player in players]\n",
    "player_by_name = {player.name: player for player in players}\n",
    "selected_player = player_by_name[sim_to_interact]\n",
    "interrogation = interaction_premise"
   ]
  },
  {
   "cell_type": "code",
   "execution_count": null,
   "metadata": {},
   "outputs": [],
   "source": [
    "utterance_from_user = (\n",
    "    \"Hey Alice, did you post anything on Mastodon today?\"\n",
    ")\n",
    "\n",
    "interrogation += f\"{user_identity}: {utterance_from_user}\"\n",
    "player_says = selected_player.say(interrogation)\n",
    "interrogation += f\"\\n{sim_to_interact}: {player_says}\\n\"\n",
    "print(interrogation)"
   ]
  },
  {
   "cell_type": "markdown",
   "metadata": {},
   "source": [
    "## Check timeline\n",
    "\n",
    "Finally, check the full public timeline for the Mastodon server.\n",
    "\n",
    "You may also check this directly at https://social-sandbox.com (you'll need to log in as a user)."
   ]
  },
  {
   "cell_type": "code",
   "execution_count": null,
   "metadata": {},
   "outputs": [],
   "source": [
    "timeline = get_public_timeline(limit=None)\n",
    "print_timeline(timeline)"
   ]
  }
 ],
 "metadata": {
  "kernelspec": {
   "display_name": ".venv",
   "language": "python",
   "name": "python3"
  },
  "language_info": {
   "codemirror_mode": {
    "name": "ipython",
    "version": 3
   },
   "file_extension": ".py",
   "mimetype": "text/x-python",
   "name": "python",
   "nbconvert_exporter": "python",
   "pygments_lexer": "ipython3",
   "version": "3.11.0"
  }
 },
 "nbformat": 4,
 "nbformat_minor": 2
}
